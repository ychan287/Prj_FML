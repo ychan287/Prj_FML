{
 "metadata": {
  "language_info": {
   "codemirror_mode": {
    "name": "ipython",
    "version": 3
   },
   "file_extension": ".py",
   "mimetype": "text/x-python",
   "name": "python",
   "nbconvert_exporter": "python",
   "pygments_lexer": "ipython3",
   "version": "3.7.0"
  },
  "orig_nbformat": 2,
  "kernelspec": {
   "name": "python370jvsc74a57bd0b67219c1755a5d476dd74d5fa683cfbbe51e738cac1abda326fa20a178bd0594",
   "display_name": "Python 3.7.0 64-bit ('timeseries': conda)"
  }
 },
 "nbformat": 4,
 "nbformat_minor": 2,
 "cells": [
  {
   "cell_type": "code",
   "execution_count": 19,
   "metadata": {},
   "outputs": [
    {
     "output_type": "execute_result",
     "data": {
      "text/plain": [
       "   Unnamed: 0                          Name                          Type  \\\n",
       "0         1.0          Aiken, Gordon Harvey  MP (1957/06/10 - 1972/10/29)   \n",
       "1         2.0  Alexander, Lincoln MacCauley  MP (1968/06/25 - 1980/05/28)   \n",
       "\n",
       "                       Riding.Senatorial.Division Province.Territory Gender  \\\n",
       "0  Parry Sound--Muskoka (1957/06/10 - 1972/10/29)            Ontario      M   \n",
       "1         Hamilton West (1968/06/25 - 1980/05/28)            Ontario      M   \n",
       "\n",
       "                               Political.Affiliation  office Birth_year  \\\n",
       "0  Progressive Conservative Party (1957/06/10 - 1...    28.0       1918   \n",
       "1  Progressive Conservative Party (1965/11/08 - 1...    28.0       1922   \n",
       "\n",
       "          Generation  Unnamed: 10 Lookup table Unnamed: 12  \n",
       "0                  0          NaN   Birth_year  Generation  \n",
       "1  Silent Generation          NaN            0         NaN  "
      ],
      "text/html": "<div>\n<style scoped>\n    .dataframe tbody tr th:only-of-type {\n        vertical-align: middle;\n    }\n\n    .dataframe tbody tr th {\n        vertical-align: top;\n    }\n\n    .dataframe thead th {\n        text-align: right;\n    }\n</style>\n<table border=\"1\" class=\"dataframe\">\n  <thead>\n    <tr style=\"text-align: right;\">\n      <th></th>\n      <th>Unnamed: 0</th>\n      <th>Name</th>\n      <th>Type</th>\n      <th>Riding.Senatorial.Division</th>\n      <th>Province.Territory</th>\n      <th>Gender</th>\n      <th>Political.Affiliation</th>\n      <th>office</th>\n      <th>Birth_year</th>\n      <th>Generation</th>\n      <th>Unnamed: 10</th>\n      <th>Lookup table</th>\n      <th>Unnamed: 12</th>\n    </tr>\n  </thead>\n  <tbody>\n    <tr>\n      <th>0</th>\n      <td>1.0</td>\n      <td>Aiken, Gordon Harvey</td>\n      <td>MP (1957/06/10 - 1972/10/29)</td>\n      <td>Parry Sound--Muskoka (1957/06/10 - 1972/10/29)</td>\n      <td>Ontario</td>\n      <td>M</td>\n      <td>Progressive Conservative Party (1957/06/10 - 1...</td>\n      <td>28.0</td>\n      <td>1918</td>\n      <td>0</td>\n      <td>NaN</td>\n      <td>Birth_year</td>\n      <td>Generation</td>\n    </tr>\n    <tr>\n      <th>1</th>\n      <td>2.0</td>\n      <td>Alexander, Lincoln MacCauley</td>\n      <td>MP (1968/06/25 - 1980/05/28)</td>\n      <td>Hamilton West (1968/06/25 - 1980/05/28)</td>\n      <td>Ontario</td>\n      <td>M</td>\n      <td>Progressive Conservative Party (1965/11/08 - 1...</td>\n      <td>28.0</td>\n      <td>1922</td>\n      <td>Silent Generation</td>\n      <td>NaN</td>\n      <td>0</td>\n      <td>NaN</td>\n    </tr>\n  </tbody>\n</table>\n</div>"
     },
     "metadata": {},
     "execution_count": 19
    }
   ],
   "source": [
    "import pandas as pd\n",
    "import re\n",
    "import fuzzy_pandas as fpd\n",
    "import fuzzymatcher\n",
    "\n",
    "combined_parliaments = pd.read_excel(\"combined_parliaments.xls\")\n",
    "#imported it as an xls because csv's were doing funny things to the names \n",
    "combined_parliaments.head(2)\n"
   ]
  },
  {
   "cell_type": "code",
   "execution_count": 20,
   "metadata": {},
   "outputs": [
    {
     "output_type": "execute_result",
     "data": {
      "text/plain": [
       "                   Name_MP  number\n",
       "0  Beaubien, Arthur-Lucien      14\n",
       "1  Beaubien, Arthur-Lucien      15"
      ],
      "text/html": "<div>\n<style scoped>\n    .dataframe tbody tr th:only-of-type {\n        vertical-align: middle;\n    }\n\n    .dataframe tbody tr th {\n        vertical-align: top;\n    }\n\n    .dataframe thead th {\n        text-align: right;\n    }\n</style>\n<table border=\"1\" class=\"dataframe\">\n  <thead>\n    <tr style=\"text-align: right;\">\n      <th></th>\n      <th>Name_MP</th>\n      <th>number</th>\n    </tr>\n  </thead>\n  <tbody>\n    <tr>\n      <th>0</th>\n      <td>Beaubien, Arthur-Lucien</td>\n      <td>14</td>\n    </tr>\n    <tr>\n      <th>1</th>\n      <td>Beaubien, Arthur-Lucien</td>\n      <td>15</td>\n    </tr>\n  </tbody>\n</table>\n</div>"
     },
     "metadata": {},
     "execution_count": 20
    }
   ],
   "source": [
    "MPs_parliament = pd.read_csv ('MPs_parliament.csv')\n",
    "MPs_parliament.rename(columns={'Name':'Name_MP'}, inplace=True)\n",
    "MPs_parliament.head(2)\n"
   ]
  },
  {
   "cell_type": "code",
   "execution_count": 22,
   "metadata": {},
   "outputs": [
    {
     "output_type": "execute_result",
     "data": {
      "text/plain": [
       "   best_match_score __id_left __id_right  Unnamed: 0  \\\n",
       "0          0.553249    0_left  121_right         1.0   \n",
       "7          0.583423    1_left  739_right         2.0   \n",
       "\n",
       "                           Name                          Type  \\\n",
       "0          Aiken, Gordon Harvey  MP (1957/06/10 - 1972/10/29)   \n",
       "7  Alexander, Lincoln MacCauley  MP (1968/06/25 - 1980/05/28)   \n",
       "\n",
       "                       Riding.Senatorial.Division Province.Territory Gender  \\\n",
       "0  Parry Sound--Muskoka (1957/06/10 - 1972/10/29)            Ontario      M   \n",
       "7         Hamilton West (1968/06/25 - 1980/05/28)            Ontario      M   \n",
       "\n",
       "                               Political.Affiliation  office Birth_year  \\\n",
       "0  Progressive Conservative Party (1957/06/10 - 1...    28.0       1918   \n",
       "7  Progressive Conservative Party (1965/11/08 - 1...    28.0       1922   \n",
       "\n",
       "          Generation  Unnamed: 10 Lookup table Unnamed: 12  \\\n",
       "0                  0          NaN   Birth_year  Generation   \n",
       "7  Silent Generation          NaN            0         NaN   \n",
       "\n",
       "                        Name_MP  number  \n",
       "0          Aiken, Gordon Harvey    23.0  \n",
       "7  Alexander, Lincoln MacCauley    28.0  "
      ],
      "text/html": "<div>\n<style scoped>\n    .dataframe tbody tr th:only-of-type {\n        vertical-align: middle;\n    }\n\n    .dataframe tbody tr th {\n        vertical-align: top;\n    }\n\n    .dataframe thead th {\n        text-align: right;\n    }\n</style>\n<table border=\"1\" class=\"dataframe\">\n  <thead>\n    <tr style=\"text-align: right;\">\n      <th></th>\n      <th>best_match_score</th>\n      <th>__id_left</th>\n      <th>__id_right</th>\n      <th>Unnamed: 0</th>\n      <th>Name</th>\n      <th>Type</th>\n      <th>Riding.Senatorial.Division</th>\n      <th>Province.Territory</th>\n      <th>Gender</th>\n      <th>Political.Affiliation</th>\n      <th>office</th>\n      <th>Birth_year</th>\n      <th>Generation</th>\n      <th>Unnamed: 10</th>\n      <th>Lookup table</th>\n      <th>Unnamed: 12</th>\n      <th>Name_MP</th>\n      <th>number</th>\n    </tr>\n  </thead>\n  <tbody>\n    <tr>\n      <th>0</th>\n      <td>0.553249</td>\n      <td>0_left</td>\n      <td>121_right</td>\n      <td>1.0</td>\n      <td>Aiken, Gordon Harvey</td>\n      <td>MP (1957/06/10 - 1972/10/29)</td>\n      <td>Parry Sound--Muskoka (1957/06/10 - 1972/10/29)</td>\n      <td>Ontario</td>\n      <td>M</td>\n      <td>Progressive Conservative Party (1957/06/10 - 1...</td>\n      <td>28.0</td>\n      <td>1918</td>\n      <td>0</td>\n      <td>NaN</td>\n      <td>Birth_year</td>\n      <td>Generation</td>\n      <td>Aiken, Gordon Harvey</td>\n      <td>23.0</td>\n    </tr>\n    <tr>\n      <th>7</th>\n      <td>0.583423</td>\n      <td>1_left</td>\n      <td>739_right</td>\n      <td>2.0</td>\n      <td>Alexander, Lincoln MacCauley</td>\n      <td>MP (1968/06/25 - 1980/05/28)</td>\n      <td>Hamilton West (1968/06/25 - 1980/05/28)</td>\n      <td>Ontario</td>\n      <td>M</td>\n      <td>Progressive Conservative Party (1965/11/08 - 1...</td>\n      <td>28.0</td>\n      <td>1922</td>\n      <td>Silent Generation</td>\n      <td>NaN</td>\n      <td>0</td>\n      <td>NaN</td>\n      <td>Alexander, Lincoln MacCauley</td>\n      <td>28.0</td>\n    </tr>\n  </tbody>\n</table>\n</div>"
     },
     "metadata": {},
     "execution_count": 22
    }
   ],
   "source": [
    "\n",
    "#used fuzzy matcher to match the names as the format was different\n",
    "matched_results = fuzzymatcher.fuzzy_left_join(combined_parliaments, MPs_parliament,\n",
    "                left_on=['Name'],\n",
    "                right_on=['Name_MP'])\n",
    "\n",
    "\n",
    "matched_results.head(2)"
   ]
  },
  {
   "cell_type": "code",
   "execution_count": 23,
   "metadata": {},
   "outputs": [
    {
     "output_type": "execute_result",
     "data": {
      "text/plain": [
       "Index(['best_match_score', '__id_left', '__id_right', 'Unnamed: 0', 'Name',\n",
       "       'Type', 'Riding.Senatorial.Division', 'Province.Territory', 'Gender',\n",
       "       'Political.Affiliation', 'office', 'Birth_year', 'Generation',\n",
       "       'Unnamed: 10', 'Lookup table', 'Unnamed: 12', 'Name_MP', 'number'],\n",
       "      dtype='object')"
      ]
     },
     "metadata": {},
     "execution_count": 23
    }
   ],
   "source": [
    "matched_results.columns"
   ]
  },
  {
   "cell_type": "code",
   "execution_count": 24,
   "metadata": {},
   "outputs": [
    {
     "output_type": "execute_result",
     "data": {
      "text/plain": [
       "       best_match_score  __id_left  __id_right  Unnamed: 0             Name  \\\n",
       "20736          0.028073  4049_left  3325_right      4050.0        Carr, Jim   \n",
       "21542          0.028073  4402_left  3325_right      4403.0        Carr, Jim   \n",
       "15009          0.271407  2779_left  4682_right      2780.0       Carr, Gary   \n",
       "18004          0.312427  3360_left  4618_right      3361.0       André, Guy   \n",
       "16398          0.312427  3044_left  4618_right      3045.0       André, Guy   \n",
       "14763          0.312427  2735_left  4618_right      2736.0       André, Guy   \n",
       "10988          0.313787  2019_left  3685_right      2020.0      Murray, Ian   \n",
       "12513          0.313787  2323_left  3685_right      2324.0      Murray, Ian   \n",
       "16251          0.317671  3022_left  4999_right      3023.0  Vincent, Robert   \n",
       "17850          0.317671  3335_left  4999_right      3336.0  Vincent, Robert   \n",
       "\n",
       "               Name_MP  number                          Type  \\\n",
       "20736      Abbott, Jim    35.0            MP (2015/10/19 - )   \n",
       "21542      Abbott, Jim    35.0            MP (2015/10/19 - )   \n",
       "15009       Carr, Gary    38.0  MP (2004/06/28 - 2006/01/22)   \n",
       "18004       André, Guy    38.0  MP (2004/06/28 - 2011/05/01)   \n",
       "16398       André, Guy    38.0  MP (2004/06/28 - 2011/05/01)   \n",
       "14763       André, Guy    38.0  MP (2004/06/28 - 2011/05/01)   \n",
       "10988      Murray, Ian    35.0  MP (1993/10/25 - 2000/11/26)   \n",
       "12513      Murray, Ian    35.0  MP (1993/10/25 - 2000/11/26)   \n",
       "16251  Vincent, Robert    38.0  MP (2004/06/28 - 2011/05/01)   \n",
       "17850  Vincent, Robert    38.0  MP (2004/06/28 - 2011/05/01)   \n",
       "\n",
       "                           Riding.Senatorial.Division Province.Territory  \\\n",
       "20736           Winnipeg South Centre (2015/10/19 - )           Manitoba   \n",
       "21542           Winnipeg South Centre (2015/10/19 - )           Manitoba   \n",
       "15009                Halton (2004/06/28 - 2006/01/22)            Ontario   \n",
       "18004  Berthier--Maskinongé (2004/06/28 - 2011/05/01)             Quebec   \n",
       "16398  Berthier--Maskinongé (2004/06/28 - 2011/05/01)             Quebec   \n",
       "14763  Berthier--Maskinongé (2004/06/28 - 2011/05/01)             Quebec   \n",
       "10988      Lanark--Carleton (1993/10/25 - 2000/11/26)            Ontario   \n",
       "12513      Lanark--Carleton (1993/10/25 - 2000/11/26)            Ontario   \n",
       "16251              Shefford (2004/06/28 - 2011/05/01)             Quebec   \n",
       "17850              Shefford (2004/06/28 - 2011/05/01)             Quebec   \n",
       "\n",
       "      Gender                              Political.Affiliation  office  \\\n",
       "20736      M            Liberal Party of Canada (2015/10/19 - )    42.0   \n",
       "21542      M            Liberal Party of Canada (2015/10/19 - )    43.0   \n",
       "15009      M  Liberal Party of Canada (2004/06/28 - 2006/01/22)    38.0   \n",
       "18004      M           Bloc Québécois (2004/06/28 - 2011/05/01)    40.0   \n",
       "16398      M           Bloc Québécois (2004/06/28 - 2011/05/01)    39.0   \n",
       "14763      M           Bloc Québécois (2004/06/28 - 2011/05/01)    38.0   \n",
       "10988      M  Liberal Party of Canada (1993/10/25 - 2000/11/26)    35.0   \n",
       "12513      M  Liberal Party of Canada (1993/10/25 - 2000/11/26)    36.0   \n",
       "16251      M           Bloc Québécois (2004/06/28 - 2011/05/01)    38.0   \n",
       "17850      M           Bloc Québécois (2004/06/28 - 2011/05/01)    39.0   \n",
       "\n",
       "      Birth_year   Generation  Unnamed: 10 Lookup table Unnamed: 12  \n",
       "20736        NaN          NaN          NaN          NaN         NaN  \n",
       "21542        NaN          NaN          NaN          NaN         NaN  \n",
       "15009       1955  Baby Boomer          NaN          NaN         NaN  \n",
       "18004       1959  Baby Boomer          NaN          NaN         NaN  \n",
       "16398       1959  Baby Boomer          NaN          NaN         NaN  \n",
       "14763       1959  Baby Boomer          NaN          NaN         NaN  \n",
       "10988       1951  Baby Boomer          NaN          NaN         NaN  \n",
       "12513       1951  Baby Boomer          NaN          NaN         NaN  \n",
       "16251       1956  Baby Boomer          NaN          NaN         NaN  \n",
       "17850       1956  Baby Boomer          NaN          NaN         NaN  "
      ],
      "text/html": "<div>\n<style scoped>\n    .dataframe tbody tr th:only-of-type {\n        vertical-align: middle;\n    }\n\n    .dataframe tbody tr th {\n        vertical-align: top;\n    }\n\n    .dataframe thead th {\n        text-align: right;\n    }\n</style>\n<table border=\"1\" class=\"dataframe\">\n  <thead>\n    <tr style=\"text-align: right;\">\n      <th></th>\n      <th>best_match_score</th>\n      <th>__id_left</th>\n      <th>__id_right</th>\n      <th>Unnamed: 0</th>\n      <th>Name</th>\n      <th>Name_MP</th>\n      <th>number</th>\n      <th>Type</th>\n      <th>Riding.Senatorial.Division</th>\n      <th>Province.Territory</th>\n      <th>Gender</th>\n      <th>Political.Affiliation</th>\n      <th>office</th>\n      <th>Birth_year</th>\n      <th>Generation</th>\n      <th>Unnamed: 10</th>\n      <th>Lookup table</th>\n      <th>Unnamed: 12</th>\n    </tr>\n  </thead>\n  <tbody>\n    <tr>\n      <th>20736</th>\n      <td>0.028073</td>\n      <td>4049_left</td>\n      <td>3325_right</td>\n      <td>4050.0</td>\n      <td>Carr, Jim</td>\n      <td>Abbott, Jim</td>\n      <td>35.0</td>\n      <td>MP (2015/10/19 - )</td>\n      <td>Winnipeg South Centre (2015/10/19 - )</td>\n      <td>Manitoba</td>\n      <td>M</td>\n      <td>Liberal Party of Canada (2015/10/19 - )</td>\n      <td>42.0</td>\n      <td>NaN</td>\n      <td>NaN</td>\n      <td>NaN</td>\n      <td>NaN</td>\n      <td>NaN</td>\n    </tr>\n    <tr>\n      <th>21542</th>\n      <td>0.028073</td>\n      <td>4402_left</td>\n      <td>3325_right</td>\n      <td>4403.0</td>\n      <td>Carr, Jim</td>\n      <td>Abbott, Jim</td>\n      <td>35.0</td>\n      <td>MP (2015/10/19 - )</td>\n      <td>Winnipeg South Centre (2015/10/19 - )</td>\n      <td>Manitoba</td>\n      <td>M</td>\n      <td>Liberal Party of Canada (2015/10/19 - )</td>\n      <td>43.0</td>\n      <td>NaN</td>\n      <td>NaN</td>\n      <td>NaN</td>\n      <td>NaN</td>\n      <td>NaN</td>\n    </tr>\n    <tr>\n      <th>15009</th>\n      <td>0.271407</td>\n      <td>2779_left</td>\n      <td>4682_right</td>\n      <td>2780.0</td>\n      <td>Carr, Gary</td>\n      <td>Carr, Gary</td>\n      <td>38.0</td>\n      <td>MP (2004/06/28 - 2006/01/22)</td>\n      <td>Halton (2004/06/28 - 2006/01/22)</td>\n      <td>Ontario</td>\n      <td>M</td>\n      <td>Liberal Party of Canada (2004/06/28 - 2006/01/22)</td>\n      <td>38.0</td>\n      <td>1955</td>\n      <td>Baby Boomer</td>\n      <td>NaN</td>\n      <td>NaN</td>\n      <td>NaN</td>\n    </tr>\n    <tr>\n      <th>18004</th>\n      <td>0.312427</td>\n      <td>3360_left</td>\n      <td>4618_right</td>\n      <td>3361.0</td>\n      <td>André, Guy</td>\n      <td>André, Guy</td>\n      <td>38.0</td>\n      <td>MP (2004/06/28 - 2011/05/01)</td>\n      <td>Berthier--Maskinongé (2004/06/28 - 2011/05/01)</td>\n      <td>Quebec</td>\n      <td>M</td>\n      <td>Bloc Québécois (2004/06/28 - 2011/05/01)</td>\n      <td>40.0</td>\n      <td>1959</td>\n      <td>Baby Boomer</td>\n      <td>NaN</td>\n      <td>NaN</td>\n      <td>NaN</td>\n    </tr>\n    <tr>\n      <th>16398</th>\n      <td>0.312427</td>\n      <td>3044_left</td>\n      <td>4618_right</td>\n      <td>3045.0</td>\n      <td>André, Guy</td>\n      <td>André, Guy</td>\n      <td>38.0</td>\n      <td>MP (2004/06/28 - 2011/05/01)</td>\n      <td>Berthier--Maskinongé (2004/06/28 - 2011/05/01)</td>\n      <td>Quebec</td>\n      <td>M</td>\n      <td>Bloc Québécois (2004/06/28 - 2011/05/01)</td>\n      <td>39.0</td>\n      <td>1959</td>\n      <td>Baby Boomer</td>\n      <td>NaN</td>\n      <td>NaN</td>\n      <td>NaN</td>\n    </tr>\n    <tr>\n      <th>14763</th>\n      <td>0.312427</td>\n      <td>2735_left</td>\n      <td>4618_right</td>\n      <td>2736.0</td>\n      <td>André, Guy</td>\n      <td>André, Guy</td>\n      <td>38.0</td>\n      <td>MP (2004/06/28 - 2011/05/01)</td>\n      <td>Berthier--Maskinongé (2004/06/28 - 2011/05/01)</td>\n      <td>Quebec</td>\n      <td>M</td>\n      <td>Bloc Québécois (2004/06/28 - 2011/05/01)</td>\n      <td>38.0</td>\n      <td>1959</td>\n      <td>Baby Boomer</td>\n      <td>NaN</td>\n      <td>NaN</td>\n      <td>NaN</td>\n    </tr>\n    <tr>\n      <th>10988</th>\n      <td>0.313787</td>\n      <td>2019_left</td>\n      <td>3685_right</td>\n      <td>2020.0</td>\n      <td>Murray, Ian</td>\n      <td>Murray, Ian</td>\n      <td>35.0</td>\n      <td>MP (1993/10/25 - 2000/11/26)</td>\n      <td>Lanark--Carleton (1993/10/25 - 2000/11/26)</td>\n      <td>Ontario</td>\n      <td>M</td>\n      <td>Liberal Party of Canada (1993/10/25 - 2000/11/26)</td>\n      <td>35.0</td>\n      <td>1951</td>\n      <td>Baby Boomer</td>\n      <td>NaN</td>\n      <td>NaN</td>\n      <td>NaN</td>\n    </tr>\n    <tr>\n      <th>12513</th>\n      <td>0.313787</td>\n      <td>2323_left</td>\n      <td>3685_right</td>\n      <td>2324.0</td>\n      <td>Murray, Ian</td>\n      <td>Murray, Ian</td>\n      <td>35.0</td>\n      <td>MP (1993/10/25 - 2000/11/26)</td>\n      <td>Lanark--Carleton (1993/10/25 - 2000/11/26)</td>\n      <td>Ontario</td>\n      <td>M</td>\n      <td>Liberal Party of Canada (1993/10/25 - 2000/11/26)</td>\n      <td>36.0</td>\n      <td>1951</td>\n      <td>Baby Boomer</td>\n      <td>NaN</td>\n      <td>NaN</td>\n      <td>NaN</td>\n    </tr>\n    <tr>\n      <th>16251</th>\n      <td>0.317671</td>\n      <td>3022_left</td>\n      <td>4999_right</td>\n      <td>3023.0</td>\n      <td>Vincent, Robert</td>\n      <td>Vincent, Robert</td>\n      <td>38.0</td>\n      <td>MP (2004/06/28 - 2011/05/01)</td>\n      <td>Shefford (2004/06/28 - 2011/05/01)</td>\n      <td>Quebec</td>\n      <td>M</td>\n      <td>Bloc Québécois (2004/06/28 - 2011/05/01)</td>\n      <td>38.0</td>\n      <td>1956</td>\n      <td>Baby Boomer</td>\n      <td>NaN</td>\n      <td>NaN</td>\n      <td>NaN</td>\n    </tr>\n    <tr>\n      <th>17850</th>\n      <td>0.317671</td>\n      <td>3335_left</td>\n      <td>4999_right</td>\n      <td>3336.0</td>\n      <td>Vincent, Robert</td>\n      <td>Vincent, Robert</td>\n      <td>38.0</td>\n      <td>MP (2004/06/28 - 2011/05/01)</td>\n      <td>Shefford (2004/06/28 - 2011/05/01)</td>\n      <td>Quebec</td>\n      <td>M</td>\n      <td>Bloc Québécois (2004/06/28 - 2011/05/01)</td>\n      <td>39.0</td>\n      <td>1956</td>\n      <td>Baby Boomer</td>\n      <td>NaN</td>\n      <td>NaN</td>\n      <td>NaN</td>\n    </tr>\n  </tbody>\n</table>\n</div>"
     },
     "metadata": {},
     "execution_count": 24
    }
   ],
   "source": [
    "\n",
    "cols = [\n",
    "   'best_match_score', '__id_left', '__id_right', 'Unnamed: 0', 'Name', 'Name_MP', 'number',\n",
    "       'Type', 'Riding.Senatorial.Division', 'Province.Territory', 'Gender',\n",
    "       'Political.Affiliation', 'office', 'Birth_year', 'Generation',\n",
    "       'Unnamed: 10', 'Lookup table', 'Unnamed: 12'\n",
    "]\n",
    "matched_results[cols].sort_values(by=['best_match_score'], ascending=True).head(10)"
   ]
  },
  {
   "cell_type": "code",
   "execution_count": 25,
   "metadata": {},
   "outputs": [
    {
     "output_type": "execute_result",
     "data": {
      "text/plain": [
       "       best_match_score  __id_left  __id_right  Unnamed: 0        Name  \\\n",
       "21542          0.028073  4402_left  3325_right      4403.0   Carr, Jim   \n",
       "20736          0.028073  4049_left  3325_right      4050.0   Carr, Jim   \n",
       "15009          0.271407  2779_left  4682_right      2780.0  Carr, Gary   \n",
       "18004          0.312427  3360_left  4618_right      3361.0  André, Guy   \n",
       "16398          0.312427  3044_left  4618_right      3045.0  André, Guy   \n",
       "\n",
       "           Name_MP  number                          Type  \\\n",
       "21542  Abbott, Jim    35.0            MP (2015/10/19 - )   \n",
       "20736  Abbott, Jim    35.0            MP (2015/10/19 - )   \n",
       "15009   Carr, Gary    38.0  MP (2004/06/28 - 2006/01/22)   \n",
       "18004   André, Guy    38.0  MP (2004/06/28 - 2011/05/01)   \n",
       "16398   André, Guy    38.0  MP (2004/06/28 - 2011/05/01)   \n",
       "\n",
       "                           Riding.Senatorial.Division Province.Territory  \\\n",
       "21542           Winnipeg South Centre (2015/10/19 - )           Manitoba   \n",
       "20736           Winnipeg South Centre (2015/10/19 - )           Manitoba   \n",
       "15009                Halton (2004/06/28 - 2006/01/22)            Ontario   \n",
       "18004  Berthier--Maskinongé (2004/06/28 - 2011/05/01)             Quebec   \n",
       "16398  Berthier--Maskinongé (2004/06/28 - 2011/05/01)             Quebec   \n",
       "\n",
       "      Gender                              Political.Affiliation  office  \\\n",
       "21542      M            Liberal Party of Canada (2015/10/19 - )    43.0   \n",
       "20736      M            Liberal Party of Canada (2015/10/19 - )    42.0   \n",
       "15009      M  Liberal Party of Canada (2004/06/28 - 2006/01/22)    38.0   \n",
       "18004      M           Bloc Québécois (2004/06/28 - 2011/05/01)    40.0   \n",
       "16398      M           Bloc Québécois (2004/06/28 - 2011/05/01)    39.0   \n",
       "\n",
       "      Birth_year   Generation  Unnamed: 10 Lookup table Unnamed: 12  \n",
       "21542        NaN          NaN          NaN          NaN         NaN  \n",
       "20736        NaN          NaN          NaN          NaN         NaN  \n",
       "15009       1955  Baby Boomer          NaN          NaN         NaN  \n",
       "18004       1959  Baby Boomer          NaN          NaN         NaN  \n",
       "16398       1959  Baby Boomer          NaN          NaN         NaN  "
      ],
      "text/html": "<div>\n<style scoped>\n    .dataframe tbody tr th:only-of-type {\n        vertical-align: middle;\n    }\n\n    .dataframe tbody tr th {\n        vertical-align: top;\n    }\n\n    .dataframe thead th {\n        text-align: right;\n    }\n</style>\n<table border=\"1\" class=\"dataframe\">\n  <thead>\n    <tr style=\"text-align: right;\">\n      <th></th>\n      <th>best_match_score</th>\n      <th>__id_left</th>\n      <th>__id_right</th>\n      <th>Unnamed: 0</th>\n      <th>Name</th>\n      <th>Name_MP</th>\n      <th>number</th>\n      <th>Type</th>\n      <th>Riding.Senatorial.Division</th>\n      <th>Province.Territory</th>\n      <th>Gender</th>\n      <th>Political.Affiliation</th>\n      <th>office</th>\n      <th>Birth_year</th>\n      <th>Generation</th>\n      <th>Unnamed: 10</th>\n      <th>Lookup table</th>\n      <th>Unnamed: 12</th>\n    </tr>\n  </thead>\n  <tbody>\n    <tr>\n      <th>21542</th>\n      <td>0.028073</td>\n      <td>4402_left</td>\n      <td>3325_right</td>\n      <td>4403.0</td>\n      <td>Carr, Jim</td>\n      <td>Abbott, Jim</td>\n      <td>35.0</td>\n      <td>MP (2015/10/19 - )</td>\n      <td>Winnipeg South Centre (2015/10/19 - )</td>\n      <td>Manitoba</td>\n      <td>M</td>\n      <td>Liberal Party of Canada (2015/10/19 - )</td>\n      <td>43.0</td>\n      <td>NaN</td>\n      <td>NaN</td>\n      <td>NaN</td>\n      <td>NaN</td>\n      <td>NaN</td>\n    </tr>\n    <tr>\n      <th>20736</th>\n      <td>0.028073</td>\n      <td>4049_left</td>\n      <td>3325_right</td>\n      <td>4050.0</td>\n      <td>Carr, Jim</td>\n      <td>Abbott, Jim</td>\n      <td>35.0</td>\n      <td>MP (2015/10/19 - )</td>\n      <td>Winnipeg South Centre (2015/10/19 - )</td>\n      <td>Manitoba</td>\n      <td>M</td>\n      <td>Liberal Party of Canada (2015/10/19 - )</td>\n      <td>42.0</td>\n      <td>NaN</td>\n      <td>NaN</td>\n      <td>NaN</td>\n      <td>NaN</td>\n      <td>NaN</td>\n    </tr>\n    <tr>\n      <th>15009</th>\n      <td>0.271407</td>\n      <td>2779_left</td>\n      <td>4682_right</td>\n      <td>2780.0</td>\n      <td>Carr, Gary</td>\n      <td>Carr, Gary</td>\n      <td>38.0</td>\n      <td>MP (2004/06/28 - 2006/01/22)</td>\n      <td>Halton (2004/06/28 - 2006/01/22)</td>\n      <td>Ontario</td>\n      <td>M</td>\n      <td>Liberal Party of Canada (2004/06/28 - 2006/01/22)</td>\n      <td>38.0</td>\n      <td>1955</td>\n      <td>Baby Boomer</td>\n      <td>NaN</td>\n      <td>NaN</td>\n      <td>NaN</td>\n    </tr>\n    <tr>\n      <th>18004</th>\n      <td>0.312427</td>\n      <td>3360_left</td>\n      <td>4618_right</td>\n      <td>3361.0</td>\n      <td>André, Guy</td>\n      <td>André, Guy</td>\n      <td>38.0</td>\n      <td>MP (2004/06/28 - 2011/05/01)</td>\n      <td>Berthier--Maskinongé (2004/06/28 - 2011/05/01)</td>\n      <td>Quebec</td>\n      <td>M</td>\n      <td>Bloc Québécois (2004/06/28 - 2011/05/01)</td>\n      <td>40.0</td>\n      <td>1959</td>\n      <td>Baby Boomer</td>\n      <td>NaN</td>\n      <td>NaN</td>\n      <td>NaN</td>\n    </tr>\n    <tr>\n      <th>16398</th>\n      <td>0.312427</td>\n      <td>3044_left</td>\n      <td>4618_right</td>\n      <td>3045.0</td>\n      <td>André, Guy</td>\n      <td>André, Guy</td>\n      <td>38.0</td>\n      <td>MP (2004/06/28 - 2011/05/01)</td>\n      <td>Berthier--Maskinongé (2004/06/28 - 2011/05/01)</td>\n      <td>Quebec</td>\n      <td>M</td>\n      <td>Bloc Québécois (2004/06/28 - 2011/05/01)</td>\n      <td>39.0</td>\n      <td>1959</td>\n      <td>Baby Boomer</td>\n      <td>NaN</td>\n      <td>NaN</td>\n      <td>NaN</td>\n    </tr>\n  </tbody>\n</table>\n</div>"
     },
     "metadata": {},
     "execution_count": 25
    }
   ],
   "source": [
    "#need to investigate Jim Abbott and Jim Carr\n",
    "matched_results[cols].query(\"best_match_score <= .80\").sort_values(\n",
    "    by=['best_match_score'], ascending=True).head(5)"
   ]
  },
  {
   "cell_type": "code",
   "execution_count": 29,
   "metadata": {},
   "outputs": [],
   "source": [
    "matched_results.to_csv('combined_parliaments_withnumbers.csv')"
   ]
  },
  {
   "cell_type": "code",
   "execution_count": null,
   "metadata": {},
   "outputs": [],
   "source": []
  }
 ]
}