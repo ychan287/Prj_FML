{
 "metadata": {
  "language_info": {
   "codemirror_mode": {
    "name": "ipython",
    "version": 3
   },
   "file_extension": ".py",
   "mimetype": "text/x-python",
   "name": "python",
   "nbconvert_exporter": "python",
   "pygments_lexer": "ipython3",
   "version": "3.7.0"
  },
  "orig_nbformat": 2,
  "kernelspec": {
   "name": "python370jvsc74a57bd0b67219c1755a5d476dd74d5fa683cfbbe51e738cac1abda326fa20a178bd0594",
   "display_name": "Python 3.7.0 64-bit ('timeseries': conda)"
  }
 },
 "nbformat": 4,
 "nbformat_minor": 2,
 "cells": [
  {
   "cell_type": "code",
   "execution_count": 1,
   "metadata": {},
   "outputs": [
    {
     "output_type": "execute_result",
     "data": {
      "text/plain": [
       "                       Name  \\\n",
       "0  Lind, James (Jim) Gordon   \n",
       "1           Hébert, Jacques   \n",
       "\n",
       "                             Type.of.Parliamentarian  \\\n",
       "0  MP (1968/06/25 - 1972/10/29)\\nMP (1965/11/08 -...   \n",
       "1                  Senator (1983/04/20 - 1998/06/21)   \n",
       "\n",
       "                          Riding.Senatorial.Division Province.Territory  \\\n",
       "0  Middlesex (1968/06/25 - 1972/10/29)\\nMiddlesex...   Ontario\\nOntario   \n",
       "1               Wellington (1983/04/20 - 1998/06/21)             Quebec   \n",
       "\n",
       "  Gender                              Political.Affiliation            Full  \\\n",
       "0      M  Liberal Party of Canada (1965/11/08 - 1972/10/29)      James Lind   \n",
       "1      M  Liberal Party of Canada (1983/04/20 - 1998/06/21)  Jacques Hébert   \n",
       "\n",
       "            Start_date             End_date  Birth.Date.Combined  \n",
       "0  1965-11-08 00:00:00  1972-10-29 00:00:00  1913-03-08 00:00:00  \n",
       "1  1983-04-20 00:00:00  1998-06-21 00:00:00  1923-06-21 00:00:00  "
      ],
      "text/html": "<div>\n<style scoped>\n    .dataframe tbody tr th:only-of-type {\n        vertical-align: middle;\n    }\n\n    .dataframe tbody tr th {\n        vertical-align: top;\n    }\n\n    .dataframe thead th {\n        text-align: right;\n    }\n</style>\n<table border=\"1\" class=\"dataframe\">\n  <thead>\n    <tr style=\"text-align: right;\">\n      <th></th>\n      <th>Name</th>\n      <th>Type.of.Parliamentarian</th>\n      <th>Riding.Senatorial.Division</th>\n      <th>Province.Territory</th>\n      <th>Gender</th>\n      <th>Political.Affiliation</th>\n      <th>Full</th>\n      <th>Start_date</th>\n      <th>End_date</th>\n      <th>Birth.Date.Combined</th>\n    </tr>\n  </thead>\n  <tbody>\n    <tr>\n      <th>0</th>\n      <td>Lind, James (Jim) Gordon</td>\n      <td>MP (1968/06/25 - 1972/10/29)\\nMP (1965/11/08 -...</td>\n      <td>Middlesex (1968/06/25 - 1972/10/29)\\nMiddlesex...</td>\n      <td>Ontario\\nOntario</td>\n      <td>M</td>\n      <td>Liberal Party of Canada (1965/11/08 - 1972/10/29)</td>\n      <td>James Lind</td>\n      <td>1965-11-08 00:00:00</td>\n      <td>1972-10-29 00:00:00</td>\n      <td>1913-03-08 00:00:00</td>\n    </tr>\n    <tr>\n      <th>1</th>\n      <td>Hébert, Jacques</td>\n      <td>Senator (1983/04/20 - 1998/06/21)</td>\n      <td>Wellington (1983/04/20 - 1998/06/21)</td>\n      <td>Quebec</td>\n      <td>M</td>\n      <td>Liberal Party of Canada (1983/04/20 - 1998/06/21)</td>\n      <td>Jacques Hébert</td>\n      <td>1983-04-20 00:00:00</td>\n      <td>1998-06-21 00:00:00</td>\n      <td>1923-06-21 00:00:00</td>\n    </tr>\n  </tbody>\n</table>\n</div>"
     },
     "metadata": {},
     "execution_count": 1
    }
   ],
   "source": [
    "import pandas as pd\n",
    "import re\n",
    "import fuzzy_pandas as fpd\n",
    "\n",
    "All_MPs = pd.read_excel(\"all_MPs_bd_April7-2.xls\")\n",
    "#imported it as an xls because csv's were doing funny things to the names \n",
    "All_MPs.head(2)\n"
   ]
  },
  {
   "cell_type": "code",
   "execution_count": 2,
   "metadata": {},
   "outputs": [
    {
     "output_type": "execute_result",
     "data": {
      "text/plain": [
       "                      Name  number\n",
       "0  Beaubien, Arthur-Lucien      14\n",
       "1  Beaubien, Arthur-Lucien      15"
      ],
      "text/html": "<div>\n<style scoped>\n    .dataframe tbody tr th:only-of-type {\n        vertical-align: middle;\n    }\n\n    .dataframe tbody tr th {\n        vertical-align: top;\n    }\n\n    .dataframe thead th {\n        text-align: right;\n    }\n</style>\n<table border=\"1\" class=\"dataframe\">\n  <thead>\n    <tr style=\"text-align: right;\">\n      <th></th>\n      <th>Name</th>\n      <th>number</th>\n    </tr>\n  </thead>\n  <tbody>\n    <tr>\n      <th>0</th>\n      <td>Beaubien, Arthur-Lucien</td>\n      <td>14</td>\n    </tr>\n    <tr>\n      <th>1</th>\n      <td>Beaubien, Arthur-Lucien</td>\n      <td>15</td>\n    </tr>\n  </tbody>\n</table>\n</div>"
     },
     "metadata": {},
     "execution_count": 2
    }
   ],
   "source": [
    "MPs_parliament = pd.read_csv ('MPs_parliament.csv')\n",
    "MPs_parliament.head(2)\n"
   ]
  },
  {
   "cell_type": "code",
   "execution_count": 3,
   "metadata": {},
   "outputs": [
    {
     "output_type": "stream",
     "name": "stderr",
     "text": [
      "ipykernel_launcher:2: FutureWarning: Columnar iteration over characters will be deprecated in future releases.\n"
     ]
    },
    {
     "output_type": "execute_result",
     "data": {
      "text/plain": [
       "                      Name  number               First_Last\n",
       "0  Beaubien, Arthur-Lucien      14   Arthur-Lucien Beaubien\n",
       "1  Beaubien, Arthur-Lucien      15   Arthur-Lucien Beaubien\n",
       "2  Beaubien, Arthur-Lucien      16   Arthur-Lucien Beaubien\n",
       "3  Beaubien, Arthur-Lucien      17   Arthur-Lucien Beaubien\n",
       "4  Beaubien, Arthur-Lucien      18   Arthur-Lucien Beaubien"
      ],
      "text/html": "<div>\n<style scoped>\n    .dataframe tbody tr th:only-of-type {\n        vertical-align: middle;\n    }\n\n    .dataframe tbody tr th {\n        vertical-align: top;\n    }\n\n    .dataframe thead th {\n        text-align: right;\n    }\n</style>\n<table border=\"1\" class=\"dataframe\">\n  <thead>\n    <tr style=\"text-align: right;\">\n      <th></th>\n      <th>Name</th>\n      <th>number</th>\n      <th>First_Last</th>\n    </tr>\n  </thead>\n  <tbody>\n    <tr>\n      <th>0</th>\n      <td>Beaubien, Arthur-Lucien</td>\n      <td>14</td>\n      <td>Arthur-Lucien Beaubien</td>\n    </tr>\n    <tr>\n      <th>1</th>\n      <td>Beaubien, Arthur-Lucien</td>\n      <td>15</td>\n      <td>Arthur-Lucien Beaubien</td>\n    </tr>\n    <tr>\n      <th>2</th>\n      <td>Beaubien, Arthur-Lucien</td>\n      <td>16</td>\n      <td>Arthur-Lucien Beaubien</td>\n    </tr>\n    <tr>\n      <th>3</th>\n      <td>Beaubien, Arthur-Lucien</td>\n      <td>17</td>\n      <td>Arthur-Lucien Beaubien</td>\n    </tr>\n    <tr>\n      <th>4</th>\n      <td>Beaubien, Arthur-Lucien</td>\n      <td>18</td>\n      <td>Arthur-Lucien Beaubien</td>\n    </tr>\n  </tbody>\n</table>\n</div>"
     },
     "metadata": {},
     "execution_count": 3
    }
   ],
   "source": [
    "#change the name format into first last with no comma to match MPs_parliament['Full'] column\n",
    "MPs_parliament['Last'],MPs_parliament['First'] = MPs_parliament['Name'].str.split(',', 1).str\n",
    "MPs_parliament[\"First_Last\"] = MPs_parliament[\"First\"]  + ' ' + MPs_parliament[\"Last\"] \n",
    "MPs_parliament = MPs_parliament.drop(columns=['First', 'Last'])\n",
    "MPs_parliament.head()"
   ]
  },
  {
   "cell_type": "code",
   "execution_count": 13,
   "metadata": {},
   "outputs": [
    {
     "output_type": "execute_result",
     "data": {
      "text/plain": [
       "(11918, 2)"
      ]
     },
     "metadata": {},
     "execution_count": 13
    }
   ],
   "source": [
    "matches = fpd.fuzzy_merge(MPs_parliament, All_MPs,\n",
    "                left_on=['First_Last'],\n",
    "                right_on=['Full'],\n",
    "                ignore_case=True,\n",
    "                ignore_nonalpha=True,\n",
    "                ignore_nonlatin=True,\n",
    "                ignore_order_words=True,\n",
    "                method='levenshtein',\n",
    "                keep='match',\n",
    "                join='full_outer', \n",
    "                )\n",
    "matches.shape"
   ]
  },
  {
   "cell_type": "code",
   "execution_count": 12,
   "metadata": {},
   "outputs": [
    {
     "output_type": "execute_result",
     "data": {
      "text/plain": [
       "     First_Last                    Full\n",
       "4727                         James Ross\n",
       "4728                Lavoie-Thérèse Roux\n",
       "4729                     Jean Desmarais\n",
       "4730             Saint-Raymonde Germain\n",
       "4731              Miville-Julie Dechêne"
      ],
      "text/html": "<div>\n<style scoped>\n    .dataframe tbody tr th:only-of-type {\n        vertical-align: middle;\n    }\n\n    .dataframe tbody tr th {\n        vertical-align: top;\n    }\n\n    .dataframe thead th {\n        text-align: right;\n    }\n</style>\n<table border=\"1\" class=\"dataframe\">\n  <thead>\n    <tr style=\"text-align: right;\">\n      <th></th>\n      <th>First_Last</th>\n      <th>Full</th>\n    </tr>\n  </thead>\n  <tbody>\n    <tr>\n      <th>4727</th>\n      <td></td>\n      <td>James Ross</td>\n    </tr>\n    <tr>\n      <th>4728</th>\n      <td></td>\n      <td>Lavoie-Thérèse Roux</td>\n    </tr>\n    <tr>\n      <th>4729</th>\n      <td></td>\n      <td>Jean Desmarais</td>\n    </tr>\n    <tr>\n      <th>4730</th>\n      <td></td>\n      <td>Saint-Raymonde Germain</td>\n    </tr>\n    <tr>\n      <th>4731</th>\n      <td></td>\n      <td>Miville-Julie Dechêne</td>\n    </tr>\n  </tbody>\n</table>\n</div>"
     },
     "metadata": {},
     "execution_count": 12
    }
   ],
   "source": [
    "matches.tail()"
   ]
  },
  {
   "cell_type": "code",
   "execution_count": 7,
   "metadata": {},
   "outputs": [
    {
     "output_type": "stream",
     "name": "stdout",
     "text": [
      "(3585, 2)\n(6868, 3)\n(2286, 10)\n"
     ]
    }
   ],
   "source": [
    "print(matches.shape)\n",
    "print(MPs_parliament.shape) \n",
    "print(All_MPs.shape)\n",
    "\n"
   ]
  },
  {
   "cell_type": "code",
   "execution_count": null,
   "metadata": {},
   "outputs": [],
   "source": []
  }
 ]
}