{
 "metadata": {
  "language_info": {
   "codemirror_mode": {
    "name": "ipython",
    "version": 3
   },
   "file_extension": ".py",
   "mimetype": "text/x-python",
   "name": "python",
   "nbconvert_exporter": "python",
   "pygments_lexer": "ipython3",
   "version": "3.7.0"
  },
  "orig_nbformat": 2,
  "kernelspec": {
   "name": "python370jvsc74a57bd0b67219c1755a5d476dd74d5fa683cfbbe51e738cac1abda326fa20a178bd0594",
   "display_name": "Python 3.7.0 64-bit ('timeseries': conda)"
  }
 },
 "nbformat": 4,
 "nbformat_minor": 2,
 "cells": [
  {
   "cell_type": "code",
   "execution_count": 5,
   "metadata": {},
   "outputs": [
    {
     "output_type": "execute_result",
     "data": {
      "text/plain": [
       "   Unnamed: 0                          Name                          Type  \\\n",
       "0         1.0          Aiken, Gordon Harvey  MP (1957/06/10 - 1972/10/29)   \n",
       "1         2.0  Alexander, Lincoln MacCauley  MP (1968/06/25 - 1980/05/28)   \n",
       "\n",
       "                       Riding.Senatorial.Division Province.Territory Gender  \\\n",
       "0  Parry Sound--Muskoka (1957/06/10 - 1972/10/29)            Ontario      M   \n",
       "1         Hamilton West (1968/06/25 - 1980/05/28)            Ontario      M   \n",
       "\n",
       "                               Political.Affiliation  office Birth_year  \\\n",
       "0  Progressive Conservative Party (1957/06/10 - 1...    28.0       1918   \n",
       "1  Progressive Conservative Party (1965/11/08 - 1...    28.0       1922   \n",
       "\n",
       "          Generation  Unnamed: 10 Lookup table Unnamed: 12  \n",
       "0                  0          NaN   Birth_year  Generation  \n",
       "1  Silent Generation          NaN            0         NaN  "
      ],
      "text/html": "<div>\n<style scoped>\n    .dataframe tbody tr th:only-of-type {\n        vertical-align: middle;\n    }\n\n    .dataframe tbody tr th {\n        vertical-align: top;\n    }\n\n    .dataframe thead th {\n        text-align: right;\n    }\n</style>\n<table border=\"1\" class=\"dataframe\">\n  <thead>\n    <tr style=\"text-align: right;\">\n      <th></th>\n      <th>Unnamed: 0</th>\n      <th>Name</th>\n      <th>Type</th>\n      <th>Riding.Senatorial.Division</th>\n      <th>Province.Territory</th>\n      <th>Gender</th>\n      <th>Political.Affiliation</th>\n      <th>office</th>\n      <th>Birth_year</th>\n      <th>Generation</th>\n      <th>Unnamed: 10</th>\n      <th>Lookup table</th>\n      <th>Unnamed: 12</th>\n    </tr>\n  </thead>\n  <tbody>\n    <tr>\n      <th>0</th>\n      <td>1.0</td>\n      <td>Aiken, Gordon Harvey</td>\n      <td>MP (1957/06/10 - 1972/10/29)</td>\n      <td>Parry Sound--Muskoka (1957/06/10 - 1972/10/29)</td>\n      <td>Ontario</td>\n      <td>M</td>\n      <td>Progressive Conservative Party (1957/06/10 - 1...</td>\n      <td>28.0</td>\n      <td>1918</td>\n      <td>0</td>\n      <td>NaN</td>\n      <td>Birth_year</td>\n      <td>Generation</td>\n    </tr>\n    <tr>\n      <th>1</th>\n      <td>2.0</td>\n      <td>Alexander, Lincoln MacCauley</td>\n      <td>MP (1968/06/25 - 1980/05/28)</td>\n      <td>Hamilton West (1968/06/25 - 1980/05/28)</td>\n      <td>Ontario</td>\n      <td>M</td>\n      <td>Progressive Conservative Party (1965/11/08 - 1...</td>\n      <td>28.0</td>\n      <td>1922</td>\n      <td>Silent Generation</td>\n      <td>NaN</td>\n      <td>0</td>\n      <td>NaN</td>\n    </tr>\n  </tbody>\n</table>\n</div>"
     },
     "metadata": {},
     "execution_count": 5
    }
   ],
   "source": [
    "import pandas as pd\n",
    "import re\n",
    "import fuzzy_pandas as fpd\n",
    "import fuzzymatcher\n",
    "\n",
    "combined_parliaments = pd.read_excel(\"combined_parliaments.xls\")\n",
    "#imported it as an xls because csv's were doing funny things to the names \n",
    "combined_parliaments.head(2)\n"
   ]
  },
  {
   "cell_type": "code",
   "execution_count": 6,
   "metadata": {},
   "outputs": [
    {
     "output_type": "execute_result",
     "data": {
      "text/plain": [
       "                      Name  number\n",
       "0  Beaubien, Arthur-Lucien      14\n",
       "1  Beaubien, Arthur-Lucien      15"
      ],
      "text/html": "<div>\n<style scoped>\n    .dataframe tbody tr th:only-of-type {\n        vertical-align: middle;\n    }\n\n    .dataframe tbody tr th {\n        vertical-align: top;\n    }\n\n    .dataframe thead th {\n        text-align: right;\n    }\n</style>\n<table border=\"1\" class=\"dataframe\">\n  <thead>\n    <tr style=\"text-align: right;\">\n      <th></th>\n      <th>Name</th>\n      <th>number</th>\n    </tr>\n  </thead>\n  <tbody>\n    <tr>\n      <th>0</th>\n      <td>Beaubien, Arthur-Lucien</td>\n      <td>14</td>\n    </tr>\n    <tr>\n      <th>1</th>\n      <td>Beaubien, Arthur-Lucien</td>\n      <td>15</td>\n    </tr>\n  </tbody>\n</table>\n</div>"
     },
     "metadata": {},
     "execution_count": 6
    }
   ],
   "source": [
    "MPs_parliament = pd.read_csv ('MPs_parliament.csv')\n",
    "MPs_parliament.head(2)\n"
   ]
  },
  {
   "cell_type": "code",
   "execution_count": 7,
   "metadata": {},
   "outputs": [
    {
     "output_type": "stream",
     "name": "stderr",
     "text": [
      "ipykernel_launcher:2: FutureWarning: Columnar iteration over characters will be deprecated in future releases.\n"
     ]
    },
    {
     "output_type": "execute_result",
     "data": {
      "text/plain": [
       "                      Name  number               First_Last\n",
       "0  Beaubien, Arthur-Lucien      14   Arthur-Lucien Beaubien\n",
       "1  Beaubien, Arthur-Lucien      15   Arthur-Lucien Beaubien\n",
       "2  Beaubien, Arthur-Lucien      16   Arthur-Lucien Beaubien\n",
       "3  Beaubien, Arthur-Lucien      17   Arthur-Lucien Beaubien\n",
       "4  Beaubien, Arthur-Lucien      18   Arthur-Lucien Beaubien"
      ],
      "text/html": "<div>\n<style scoped>\n    .dataframe tbody tr th:only-of-type {\n        vertical-align: middle;\n    }\n\n    .dataframe tbody tr th {\n        vertical-align: top;\n    }\n\n    .dataframe thead th {\n        text-align: right;\n    }\n</style>\n<table border=\"1\" class=\"dataframe\">\n  <thead>\n    <tr style=\"text-align: right;\">\n      <th></th>\n      <th>Name</th>\n      <th>number</th>\n      <th>First_Last</th>\n    </tr>\n  </thead>\n  <tbody>\n    <tr>\n      <th>0</th>\n      <td>Beaubien, Arthur-Lucien</td>\n      <td>14</td>\n      <td>Arthur-Lucien Beaubien</td>\n    </tr>\n    <tr>\n      <th>1</th>\n      <td>Beaubien, Arthur-Lucien</td>\n      <td>15</td>\n      <td>Arthur-Lucien Beaubien</td>\n    </tr>\n    <tr>\n      <th>2</th>\n      <td>Beaubien, Arthur-Lucien</td>\n      <td>16</td>\n      <td>Arthur-Lucien Beaubien</td>\n    </tr>\n    <tr>\n      <th>3</th>\n      <td>Beaubien, Arthur-Lucien</td>\n      <td>17</td>\n      <td>Arthur-Lucien Beaubien</td>\n    </tr>\n    <tr>\n      <th>4</th>\n      <td>Beaubien, Arthur-Lucien</td>\n      <td>18</td>\n      <td>Arthur-Lucien Beaubien</td>\n    </tr>\n  </tbody>\n</table>\n</div>"
     },
     "metadata": {},
     "execution_count": 7
    }
   ],
   "source": [
    "#change the name format into first last with no comma to match MPs_parliament['Full'] column\n",
    "MPs_parliament['Last'],MPs_parliament['First'] = MPs_parliament['Name'].str.split(',', 1).str\n",
    "MPs_parliament[\"First_Last\"] = MPs_parliament[\"First\"]  + ' ' + MPs_parliament[\"Last\"] \n",
    "MPs_parliament = MPs_parliament.drop(columns=['First', 'Last'])\n",
    "MPs_parliament.head()"
   ]
  },
  {
   "cell_type": "code",
   "execution_count": 16,
   "metadata": {},
   "outputs": [
    {
     "output_type": "execute_result",
     "data": {
      "text/plain": [
       "   best_match_score __id_left __id_right                Name_left  number  \\\n",
       "0          0.785568    0_left   16_right  Beaubien, Arthur-Lucien      14   \n",
       "1          0.785568    1_left   16_right  Beaubien, Arthur-Lucien      15   \n",
       "\n",
       "                First_Last               Name_right  \\\n",
       "0   Arthur-Lucien Beaubien  Beaubien, Arthur-Lucien   \n",
       "1   Arthur-Lucien Beaubien  Beaubien, Arthur-Lucien   \n",
       "\n",
       "                             Type.of.Parliamentarian  \\\n",
       "0  MP (1921/12/06 - 1940/01/28)\\nSenator (1940/01...   \n",
       "1  MP (1921/12/06 - 1940/01/28)\\nSenator (1940/01...   \n",
       "\n",
       "                          Riding.Senatorial.Division  Province.Territory  \\\n",
       "0  Provencher (1940/01/29 - 1969/02/01)\\nProvench...  Manitoba\\nManitoba   \n",
       "1  Provencher (1940/01/29 - 1969/02/01)\\nProvench...  Manitoba\\nManitoba   \n",
       "\n",
       "  Gender                              Political.Affiliation  \\\n",
       "0      M  Liberal Party of Canada (1940/01/29 - 1969/02/...   \n",
       "1      M  Liberal Party of Canada (1940/01/29 - 1969/02/...   \n",
       "\n",
       "                     Full           Start_date             End_date  \\\n",
       "0  Arthur Beaubien-Lucien  1940-01-29 00:00:00  1969-02-01 00:00:00   \n",
       "1  Arthur Beaubien-Lucien  1940-01-29 00:00:00  1969-02-01 00:00:00   \n",
       "\n",
       "  Birth.Date.Combined  \n",
       "0   February 11, 1879  \n",
       "1   February 11, 1879  "
      ],
      "text/html": "<div>\n<style scoped>\n    .dataframe tbody tr th:only-of-type {\n        vertical-align: middle;\n    }\n\n    .dataframe tbody tr th {\n        vertical-align: top;\n    }\n\n    .dataframe thead th {\n        text-align: right;\n    }\n</style>\n<table border=\"1\" class=\"dataframe\">\n  <thead>\n    <tr style=\"text-align: right;\">\n      <th></th>\n      <th>best_match_score</th>\n      <th>__id_left</th>\n      <th>__id_right</th>\n      <th>Name_left</th>\n      <th>number</th>\n      <th>First_Last</th>\n      <th>Name_right</th>\n      <th>Type.of.Parliamentarian</th>\n      <th>Riding.Senatorial.Division</th>\n      <th>Province.Territory</th>\n      <th>Gender</th>\n      <th>Political.Affiliation</th>\n      <th>Full</th>\n      <th>Start_date</th>\n      <th>End_date</th>\n      <th>Birth.Date.Combined</th>\n    </tr>\n  </thead>\n  <tbody>\n    <tr>\n      <th>0</th>\n      <td>0.785568</td>\n      <td>0_left</td>\n      <td>16_right</td>\n      <td>Beaubien, Arthur-Lucien</td>\n      <td>14</td>\n      <td>Arthur-Lucien Beaubien</td>\n      <td>Beaubien, Arthur-Lucien</td>\n      <td>MP (1921/12/06 - 1940/01/28)\\nSenator (1940/01...</td>\n      <td>Provencher (1940/01/29 - 1969/02/01)\\nProvench...</td>\n      <td>Manitoba\\nManitoba</td>\n      <td>M</td>\n      <td>Liberal Party of Canada (1940/01/29 - 1969/02/...</td>\n      <td>Arthur Beaubien-Lucien</td>\n      <td>1940-01-29 00:00:00</td>\n      <td>1969-02-01 00:00:00</td>\n      <td>February 11, 1879</td>\n    </tr>\n    <tr>\n      <th>1</th>\n      <td>0.785568</td>\n      <td>1_left</td>\n      <td>16_right</td>\n      <td>Beaubien, Arthur-Lucien</td>\n      <td>15</td>\n      <td>Arthur-Lucien Beaubien</td>\n      <td>Beaubien, Arthur-Lucien</td>\n      <td>MP (1921/12/06 - 1940/01/28)\\nSenator (1940/01...</td>\n      <td>Provencher (1940/01/29 - 1969/02/01)\\nProvench...</td>\n      <td>Manitoba\\nManitoba</td>\n      <td>M</td>\n      <td>Liberal Party of Canada (1940/01/29 - 1969/02/...</td>\n      <td>Arthur Beaubien-Lucien</td>\n      <td>1940-01-29 00:00:00</td>\n      <td>1969-02-01 00:00:00</td>\n      <td>February 11, 1879</td>\n    </tr>\n  </tbody>\n</table>\n</div>"
     },
     "metadata": {},
     "execution_count": 16
    }
   ],
   "source": [
    "\n",
    "#used fuzzy matcher to match the names as the format was different\n",
    "matched_results = fuzzymatcher.fuzzy_left_join(MPs_parliament, combined_parliaments,\n",
    "                left_on=['First_Last'],\n",
    "                right_on=['Full'])\n",
    "\n",
    "\n",
    "matched_results.head(2)"
   ]
  },
  {
   "cell_type": "code",
   "execution_count": 17,
   "metadata": {},
   "outputs": [
    {
     "output_type": "execute_result",
     "data": {
      "text/plain": [
       "Index(['best_match_score', '__id_left', '__id_right', 'Name_left', 'number',\n",
       "       'First_Last', 'Name_right', 'Type.of.Parliamentarian',\n",
       "       'Riding.Senatorial.Division', 'Province.Territory', 'Gender',\n",
       "       'Political.Affiliation', 'Full', 'Start_date', 'End_date',\n",
       "       'Birth.Date.Combined'],\n",
       "      dtype='object')"
      ]
     },
     "metadata": {},
     "execution_count": 17
    }
   ],
   "source": [
    "matched_results.columns"
   ]
  },
  {
   "cell_type": "code",
   "execution_count": 31,
   "metadata": {},
   "outputs": [
    {
     "output_type": "execute_result",
     "data": {
      "text/plain": [
       "       best_match_score                  Name_left                 Name_right  \\\n",
       "43486          0.990019    Girard-Bujold, Jocelyne    Girard-Bujold, Jocelyne   \n",
       "45950          0.990019    Girard-Bujold, Jocelyne    Girard-Bujold, Jocelyne   \n",
       "48225          0.990019    Girard-Bujold, Jocelyne    Girard-Bujold, Jocelyne   \n",
       "53703          0.975842  Genest-Jourdain, Jonathan  Genest-Jourdain, Jonathan   \n",
       "52714          0.975842  Genest-Jourdain, Jonathan  Genest-Jourdain, Jonathan   \n",
       "\n",
       "       number  __id_left  __id_right                 First_Last  \\\n",
       "43486      36  3985_left   993_right     Jocelyne Girard-Bujold   \n",
       "45950      37  4371_left   993_right     Jocelyne Girard-Bujold   \n",
       "48225      38  4758_left   993_right     Jocelyne Girard-Bujold   \n",
       "53703      42  6344_left  1999_right   Jonathan Genest-Jourdain   \n",
       "52714      41  5914_left  1999_right   Jonathan Genest-Jourdain   \n",
       "\n",
       "                           Full       Type.of.Parliamentarian  \\\n",
       "43486    Girard-Jocelyne Bujold  MP (1997/06/02 - 2004/06/27)   \n",
       "45950    Girard-Jocelyne Bujold  MP (1997/06/02 - 2004/06/27)   \n",
       "48225    Girard-Jocelyne Bujold  MP (1997/06/02 - 2004/06/27)   \n",
       "53703  Genest-Jonathan Jourdain  MP (2011/05/02 - 2015/10/18)   \n",
       "52714  Genest-Jonathan Jourdain  MP (2011/05/02 - 2015/10/18)   \n",
       "\n",
       "                  Riding.Senatorial.Division Province.Territory Gender  \\\n",
       "43486    Jonquière (1997/06/02 - 2004/06/27)             Quebec      F   \n",
       "45950    Jonquière (1997/06/02 - 2004/06/27)             Quebec      F   \n",
       "48225    Jonquière (1997/06/02 - 2004/06/27)             Quebec      F   \n",
       "53703  Manicouagan (2011/05/02 - 2015/10/18)             Quebec      M   \n",
       "52714  Manicouagan (2011/05/02 - 2015/10/18)             Quebec      M   \n",
       "\n",
       "                                Political.Affiliation           Start_date  \\\n",
       "43486        Bloc Québécois (1997/06/02 - 2004/06/27)  1997-06-02 00:00:00   \n",
       "45950        Bloc Québécois (1997/06/02 - 2004/06/27)  1997-06-02 00:00:00   \n",
       "48225        Bloc Québécois (1997/06/02 - 2004/06/27)  1997-06-02 00:00:00   \n",
       "53703  New Democratic Party (2011/05/02 - 2015/10/18)  2011-05-02 00:00:00   \n",
       "52714  New Democratic Party (2011/05/02 - 2015/10/18)  2011-05-02 00:00:00   \n",
       "\n",
       "                  End_date  Birth.Date.Combined  \n",
       "43486  2004-06-27 00:00:00  1943-01-01 00:00:00  \n",
       "45950  2004-06-27 00:00:00  1943-01-01 00:00:00  \n",
       "48225  2004-06-27 00:00:00  1943-01-01 00:00:00  \n",
       "53703  2015-10-18 00:00:00  1979-07-16 00:00:00  \n",
       "52714  2015-10-18 00:00:00  1979-07-16 00:00:00  "
      ],
      "text/html": "<div>\n<style scoped>\n    .dataframe tbody tr th:only-of-type {\n        vertical-align: middle;\n    }\n\n    .dataframe tbody tr th {\n        vertical-align: top;\n    }\n\n    .dataframe thead th {\n        text-align: right;\n    }\n</style>\n<table border=\"1\" class=\"dataframe\">\n  <thead>\n    <tr style=\"text-align: right;\">\n      <th></th>\n      <th>best_match_score</th>\n      <th>Name_left</th>\n      <th>Name_right</th>\n      <th>number</th>\n      <th>__id_left</th>\n      <th>__id_right</th>\n      <th>First_Last</th>\n      <th>Full</th>\n      <th>Type.of.Parliamentarian</th>\n      <th>Riding.Senatorial.Division</th>\n      <th>Province.Territory</th>\n      <th>Gender</th>\n      <th>Political.Affiliation</th>\n      <th>Start_date</th>\n      <th>End_date</th>\n      <th>Birth.Date.Combined</th>\n    </tr>\n  </thead>\n  <tbody>\n    <tr>\n      <th>43486</th>\n      <td>0.990019</td>\n      <td>Girard-Bujold, Jocelyne</td>\n      <td>Girard-Bujold, Jocelyne</td>\n      <td>36</td>\n      <td>3985_left</td>\n      <td>993_right</td>\n      <td>Jocelyne Girard-Bujold</td>\n      <td>Girard-Jocelyne Bujold</td>\n      <td>MP (1997/06/02 - 2004/06/27)</td>\n      <td>Jonquière (1997/06/02 - 2004/06/27)</td>\n      <td>Quebec</td>\n      <td>F</td>\n      <td>Bloc Québécois (1997/06/02 - 2004/06/27)</td>\n      <td>1997-06-02 00:00:00</td>\n      <td>2004-06-27 00:00:00</td>\n      <td>1943-01-01 00:00:00</td>\n    </tr>\n    <tr>\n      <th>45950</th>\n      <td>0.990019</td>\n      <td>Girard-Bujold, Jocelyne</td>\n      <td>Girard-Bujold, Jocelyne</td>\n      <td>37</td>\n      <td>4371_left</td>\n      <td>993_right</td>\n      <td>Jocelyne Girard-Bujold</td>\n      <td>Girard-Jocelyne Bujold</td>\n      <td>MP (1997/06/02 - 2004/06/27)</td>\n      <td>Jonquière (1997/06/02 - 2004/06/27)</td>\n      <td>Quebec</td>\n      <td>F</td>\n      <td>Bloc Québécois (1997/06/02 - 2004/06/27)</td>\n      <td>1997-06-02 00:00:00</td>\n      <td>2004-06-27 00:00:00</td>\n      <td>1943-01-01 00:00:00</td>\n    </tr>\n    <tr>\n      <th>48225</th>\n      <td>0.990019</td>\n      <td>Girard-Bujold, Jocelyne</td>\n      <td>Girard-Bujold, Jocelyne</td>\n      <td>38</td>\n      <td>4758_left</td>\n      <td>993_right</td>\n      <td>Jocelyne Girard-Bujold</td>\n      <td>Girard-Jocelyne Bujold</td>\n      <td>MP (1997/06/02 - 2004/06/27)</td>\n      <td>Jonquière (1997/06/02 - 2004/06/27)</td>\n      <td>Quebec</td>\n      <td>F</td>\n      <td>Bloc Québécois (1997/06/02 - 2004/06/27)</td>\n      <td>1997-06-02 00:00:00</td>\n      <td>2004-06-27 00:00:00</td>\n      <td>1943-01-01 00:00:00</td>\n    </tr>\n    <tr>\n      <th>53703</th>\n      <td>0.975842</td>\n      <td>Genest-Jourdain, Jonathan</td>\n      <td>Genest-Jourdain, Jonathan</td>\n      <td>42</td>\n      <td>6344_left</td>\n      <td>1999_right</td>\n      <td>Jonathan Genest-Jourdain</td>\n      <td>Genest-Jonathan Jourdain</td>\n      <td>MP (2011/05/02 - 2015/10/18)</td>\n      <td>Manicouagan (2011/05/02 - 2015/10/18)</td>\n      <td>Quebec</td>\n      <td>M</td>\n      <td>New Democratic Party (2011/05/02 - 2015/10/18)</td>\n      <td>2011-05-02 00:00:00</td>\n      <td>2015-10-18 00:00:00</td>\n      <td>1979-07-16 00:00:00</td>\n    </tr>\n    <tr>\n      <th>52714</th>\n      <td>0.975842</td>\n      <td>Genest-Jourdain, Jonathan</td>\n      <td>Genest-Jourdain, Jonathan</td>\n      <td>41</td>\n      <td>5914_left</td>\n      <td>1999_right</td>\n      <td>Jonathan Genest-Jourdain</td>\n      <td>Genest-Jonathan Jourdain</td>\n      <td>MP (2011/05/02 - 2015/10/18)</td>\n      <td>Manicouagan (2011/05/02 - 2015/10/18)</td>\n      <td>Quebec</td>\n      <td>M</td>\n      <td>New Democratic Party (2011/05/02 - 2015/10/18)</td>\n      <td>2011-05-02 00:00:00</td>\n      <td>2015-10-18 00:00:00</td>\n      <td>1979-07-16 00:00:00</td>\n    </tr>\n  </tbody>\n</table>\n</div>"
     },
     "metadata": {},
     "execution_count": 31
    }
   ],
   "source": [
    "cols = [\n",
    "   'best_match_score', 'Name_left',  'Name_right',  'number','__id_left', '__id_right', \n",
    "       'First_Last', 'Full', 'Type.of.Parliamentarian',\n",
    "       'Riding.Senatorial.Division', 'Province.Territory', 'Gender',\n",
    "       'Political.Affiliation',  'Start_date', 'End_date',\n",
    "       'Birth.Date.Combined'\n",
    "]\n",
    "\n",
    "matched_results[cols].sort_values(by=['best_match_score'], ascending=False).head(5)"
   ]
  },
  {
   "cell_type": "code",
   "execution_count": 27,
   "metadata": {},
   "outputs": [
    {
     "output_type": "execute_result",
     "data": {
      "text/plain": [
       "       best_match_score             Name_left         Name_right  number  \\\n",
       "24243          0.033863   Baker, Walter David      Walker, David      32   \n",
       "15966          0.033863   Baker, Walter David      Walker, David      30   \n",
       "12020          0.033863   Baker, Walter David      Walker, David      29   \n",
       "19799          0.033863   Baker, Walter David      Walker, David      31   \n",
       "33643          0.034859  Bosley, John William  Williams, John G.      34   \n",
       "\n",
       "       __id_left  __id_right            First_Last  \\\n",
       "24243  2128_left  1201_right    Walter David Baker   \n",
       "15966  1402_left  1201_right    Walter David Baker   \n",
       "12020  1035_left  1201_right    Walter David Baker   \n",
       "19799  1750_left  1201_right    Walter David Baker   \n",
       "33643  2941_left   568_right   John William Bosley   \n",
       "\n",
       "                                 Type.of.Parliamentarian  \\\n",
       "24243                       MP (1988/11/21 - 1997/06/01)   \n",
       "15966                       MP (1988/11/21 - 1997/06/01)   \n",
       "12020                       MP (1988/11/21 - 1997/06/01)   \n",
       "19799                       MP (1988/11/21 - 1997/06/01)   \n",
       "33643  MP (2004/06/28 - 2008/10/13)\\nMP (1993/10/25 -...   \n",
       "\n",
       "                              Riding.Senatorial.Division Province.Territory  \\\n",
       "24243    Winnipeg North Centre (1988/11/21 - 1997/06/01)           Manitoba   \n",
       "15966    Winnipeg North Centre (1988/11/21 - 1997/06/01)           Manitoba   \n",
       "12020    Winnipeg North Centre (1988/11/21 - 1997/06/01)           Manitoba   \n",
       "19799    Winnipeg North Centre (1988/11/21 - 1997/06/01)           Manitoba   \n",
       "33643  Edmonton--St. Albert (2004/06/28 - 2008/10/13)...   Alberta\\nAlberta   \n",
       "\n",
       "      Gender                              Political.Affiliation  \\\n",
       "24243      M  Liberal Party of Canada (1988/11/21 - 1997/06/01)   \n",
       "15966      M  Liberal Party of Canada (1988/11/21 - 1997/06/01)   \n",
       "12020      M  Liberal Party of Canada (1988/11/21 - 1997/06/01)   \n",
       "19799      M  Liberal Party of Canada (1988/11/21 - 1997/06/01)   \n",
       "33643      M  Conservative Party of Canada (2003/12/23 - 200...   \n",
       "\n",
       "                Full           Start_date             End_date  \\\n",
       "24243   David Walker  1988-11-21 00:00:00  1997-06-01 00:00:00   \n",
       "15966   David Walker  1988-11-21 00:00:00  1997-06-01 00:00:00   \n",
       "12020   David Walker  1988-11-21 00:00:00  1997-06-01 00:00:00   \n",
       "19799   David Walker  1988-11-21 00:00:00  1997-06-01 00:00:00   \n",
       "33643  John Williams  2003-12-23 00:00:00  2008-10-13 00:00:00   \n",
       "\n",
       "       Birth.Date.Combined  \n",
       "24243  1947-08-01 00:00:00  \n",
       "15966  1947-08-01 00:00:00  \n",
       "12020  1947-08-01 00:00:00  \n",
       "19799  1947-08-01 00:00:00  \n",
       "33643  1932-02-08 00:00:00  "
      ],
      "text/html": "<div>\n<style scoped>\n    .dataframe tbody tr th:only-of-type {\n        vertical-align: middle;\n    }\n\n    .dataframe tbody tr th {\n        vertical-align: top;\n    }\n\n    .dataframe thead th {\n        text-align: right;\n    }\n</style>\n<table border=\"1\" class=\"dataframe\">\n  <thead>\n    <tr style=\"text-align: right;\">\n      <th></th>\n      <th>best_match_score</th>\n      <th>Name_left</th>\n      <th>Name_right</th>\n      <th>number</th>\n      <th>__id_left</th>\n      <th>__id_right</th>\n      <th>First_Last</th>\n      <th>Type.of.Parliamentarian</th>\n      <th>Riding.Senatorial.Division</th>\n      <th>Province.Territory</th>\n      <th>Gender</th>\n      <th>Political.Affiliation</th>\n      <th>Full</th>\n      <th>Start_date</th>\n      <th>End_date</th>\n      <th>Birth.Date.Combined</th>\n    </tr>\n  </thead>\n  <tbody>\n    <tr>\n      <th>24243</th>\n      <td>0.033863</td>\n      <td>Baker, Walter David</td>\n      <td>Walker, David</td>\n      <td>32</td>\n      <td>2128_left</td>\n      <td>1201_right</td>\n      <td>Walter David Baker</td>\n      <td>MP (1988/11/21 - 1997/06/01)</td>\n      <td>Winnipeg North Centre (1988/11/21 - 1997/06/01)</td>\n      <td>Manitoba</td>\n      <td>M</td>\n      <td>Liberal Party of Canada (1988/11/21 - 1997/06/01)</td>\n      <td>David Walker</td>\n      <td>1988-11-21 00:00:00</td>\n      <td>1997-06-01 00:00:00</td>\n      <td>1947-08-01 00:00:00</td>\n    </tr>\n    <tr>\n      <th>15966</th>\n      <td>0.033863</td>\n      <td>Baker, Walter David</td>\n      <td>Walker, David</td>\n      <td>30</td>\n      <td>1402_left</td>\n      <td>1201_right</td>\n      <td>Walter David Baker</td>\n      <td>MP (1988/11/21 - 1997/06/01)</td>\n      <td>Winnipeg North Centre (1988/11/21 - 1997/06/01)</td>\n      <td>Manitoba</td>\n      <td>M</td>\n      <td>Liberal Party of Canada (1988/11/21 - 1997/06/01)</td>\n      <td>David Walker</td>\n      <td>1988-11-21 00:00:00</td>\n      <td>1997-06-01 00:00:00</td>\n      <td>1947-08-01 00:00:00</td>\n    </tr>\n    <tr>\n      <th>12020</th>\n      <td>0.033863</td>\n      <td>Baker, Walter David</td>\n      <td>Walker, David</td>\n      <td>29</td>\n      <td>1035_left</td>\n      <td>1201_right</td>\n      <td>Walter David Baker</td>\n      <td>MP (1988/11/21 - 1997/06/01)</td>\n      <td>Winnipeg North Centre (1988/11/21 - 1997/06/01)</td>\n      <td>Manitoba</td>\n      <td>M</td>\n      <td>Liberal Party of Canada (1988/11/21 - 1997/06/01)</td>\n      <td>David Walker</td>\n      <td>1988-11-21 00:00:00</td>\n      <td>1997-06-01 00:00:00</td>\n      <td>1947-08-01 00:00:00</td>\n    </tr>\n    <tr>\n      <th>19799</th>\n      <td>0.033863</td>\n      <td>Baker, Walter David</td>\n      <td>Walker, David</td>\n      <td>31</td>\n      <td>1750_left</td>\n      <td>1201_right</td>\n      <td>Walter David Baker</td>\n      <td>MP (1988/11/21 - 1997/06/01)</td>\n      <td>Winnipeg North Centre (1988/11/21 - 1997/06/01)</td>\n      <td>Manitoba</td>\n      <td>M</td>\n      <td>Liberal Party of Canada (1988/11/21 - 1997/06/01)</td>\n      <td>David Walker</td>\n      <td>1988-11-21 00:00:00</td>\n      <td>1997-06-01 00:00:00</td>\n      <td>1947-08-01 00:00:00</td>\n    </tr>\n    <tr>\n      <th>33643</th>\n      <td>0.034859</td>\n      <td>Bosley, John William</td>\n      <td>Williams, John G.</td>\n      <td>34</td>\n      <td>2941_left</td>\n      <td>568_right</td>\n      <td>John William Bosley</td>\n      <td>MP (2004/06/28 - 2008/10/13)\\nMP (1993/10/25 -...</td>\n      <td>Edmonton--St. Albert (2004/06/28 - 2008/10/13)...</td>\n      <td>Alberta\\nAlberta</td>\n      <td>M</td>\n      <td>Conservative Party of Canada (2003/12/23 - 200...</td>\n      <td>John Williams</td>\n      <td>2003-12-23 00:00:00</td>\n      <td>2008-10-13 00:00:00</td>\n      <td>1932-02-08 00:00:00</td>\n    </tr>\n  </tbody>\n</table>\n</div>"
     },
     "metadata": {},
     "execution_count": 27
    }
   ],
   "source": [
    "#even low match score seems to be correct, except for John William Bosely, need to check others too\n",
    "matched_results[cols].query(\"best_match_score <= .80\").sort_values(\n",
    "    by=['best_match_score'], ascending=True).head(5)"
   ]
  },
  {
   "cell_type": "code",
   "execution_count": 29,
   "metadata": {},
   "outputs": [],
   "source": [
    "matched_results.to_csv('combined_parliaments_withnumbers.csv')"
   ]
  },
  {
   "cell_type": "code",
   "execution_count": 30,
   "metadata": {},
   "outputs": [
    {
     "output_type": "execute_result",
     "data": {
      "text/plain": [
       "       best_match_score  __id_left  __id_right                Name_left  \\\n",
       "0              0.785568     0_left    16_right  Beaubien, Arthur-Lucien   \n",
       "1              0.785568     1_left    16_right  Beaubien, Arthur-Lucien   \n",
       "2              0.785568     2_left    16_right  Beaubien, Arthur-Lucien   \n",
       "3              0.785568     3_left    16_right  Beaubien, Arthur-Lucien   \n",
       "4              0.785568     4_left    16_right  Beaubien, Arthur-Lucien   \n",
       "...                 ...        ...         ...                      ...   \n",
       "54501          0.408486  6863_left  1944_right             Whalen, Nick   \n",
       "54502          0.530787  6864_left  1894_right         Williamson, John   \n",
       "54503          0.579563  6865_left  1703_right      Wrzesnewskyj, Borys   \n",
       "54504          0.467757  6866_left  1674_right             Zann, Lenore   \n",
       "54505          0.459955  6867_left  2223_right           Zuberi, Sameer   \n",
       "\n",
       "       number               First_Last               Name_right  \\\n",
       "0          14   Arthur-Lucien Beaubien  Beaubien, Arthur-Lucien   \n",
       "1          15   Arthur-Lucien Beaubien  Beaubien, Arthur-Lucien   \n",
       "2          16   Arthur-Lucien Beaubien  Beaubien, Arthur-Lucien   \n",
       "3          17   Arthur-Lucien Beaubien  Beaubien, Arthur-Lucien   \n",
       "4          18   Arthur-Lucien Beaubien  Beaubien, Arthur-Lucien   \n",
       "...       ...                      ...                      ...   \n",
       "54501      43              Nick Whalen             Whalen, Nick   \n",
       "54502      43          John Williamson         Williamson, John   \n",
       "54503      43       Borys Wrzesnewskyj      Wrzesnewskyj, Borys   \n",
       "54504      43              Lenore Zann             Zann, Lenore   \n",
       "54505      43            Sameer Zuberi           Zuberi, Sameer   \n",
       "\n",
       "                                 Type.of.Parliamentarian  \\\n",
       "0      MP (1921/12/06 - 1940/01/28)\\nSenator (1940/01...   \n",
       "1      MP (1921/12/06 - 1940/01/28)\\nSenator (1940/01...   \n",
       "2      MP (1921/12/06 - 1940/01/28)\\nSenator (1940/01...   \n",
       "3      MP (1921/12/06 - 1940/01/28)\\nSenator (1940/01...   \n",
       "4      MP (1921/12/06 - 1940/01/28)\\nSenator (1940/01...   \n",
       "...                                                  ...   \n",
       "54501                       MP (2015/10/19 - 2019/10/20)   \n",
       "54502   MP (2019/10/21 - )\\nMP (2011/05/02 - 2015/10/18)   \n",
       "54503  MP (2015/10/19 - 2019/10/20)\\nMP (2004/06/28 -...   \n",
       "54504                                 MP (2019/10/21 - )   \n",
       "54505                                 MP (2019/10/21 - )   \n",
       "\n",
       "                              Riding.Senatorial.Division  \\\n",
       "0      Provencher (1940/01/29 - 1969/02/01)\\nProvench...   \n",
       "1      Provencher (1940/01/29 - 1969/02/01)\\nProvench...   \n",
       "2      Provencher (1940/01/29 - 1969/02/01)\\nProvench...   \n",
       "3      Provencher (1940/01/29 - 1969/02/01)\\nProvench...   \n",
       "4      Provencher (1940/01/29 - 1969/02/01)\\nProvench...   \n",
       "...                                                  ...   \n",
       "54501          St. John's East (2015/10/19 - 2019/10/20)   \n",
       "54502  New Brunswick Southwest (2019/10/21 - )\\nNew B...   \n",
       "54503  Etobicoke Centre (2015/10/19 - 2019/10/20)\\nEt...   \n",
       "54504             Cumberland--Colchester (2019/10/21 - )   \n",
       "54505               Pierrefonds--Dollard (2019/10/21 - )   \n",
       "\n",
       "                 Province.Territory Gender  \\\n",
       "0                Manitoba\\nManitoba      M   \n",
       "1                Manitoba\\nManitoba      M   \n",
       "2                Manitoba\\nManitoba      M   \n",
       "3                Manitoba\\nManitoba      M   \n",
       "4                Manitoba\\nManitoba      M   \n",
       "...                             ...    ...   \n",
       "54501     Newfoundland and Labrador      M   \n",
       "54502  New Brunswick\\nNew Brunswick      M   \n",
       "54503              Ontario\\nOntario      M   \n",
       "54504                   Nova Scotia      F   \n",
       "54505                        Quebec      M   \n",
       "\n",
       "                                   Political.Affiliation  \\\n",
       "0      Liberal Party of Canada (1940/01/29 - 1969/02/...   \n",
       "1      Liberal Party of Canada (1940/01/29 - 1969/02/...   \n",
       "2      Liberal Party of Canada (1940/01/29 - 1969/02/...   \n",
       "3      Liberal Party of Canada (1940/01/29 - 1969/02/...   \n",
       "4      Liberal Party of Canada (1940/01/29 - 1969/02/...   \n",
       "...                                                  ...   \n",
       "54501  Liberal Party of Canada (2015/10/19 - 2019/10/20)   \n",
       "54502  Conservative Party of Canada (2019/10/21 - )\\n...   \n",
       "54503  Liberal Party of Canada (2015/10/19 - 2019/10/...   \n",
       "54504            Liberal Party of Canada (2019/10/21 - )   \n",
       "54505            Liberal Party of Canada (2019/10/21 - )   \n",
       "\n",
       "                         Full           Start_date             End_date  \\\n",
       "0      Arthur Beaubien-Lucien  1940-01-29 00:00:00  1969-02-01 00:00:00   \n",
       "1      Arthur Beaubien-Lucien  1940-01-29 00:00:00  1969-02-01 00:00:00   \n",
       "2      Arthur Beaubien-Lucien  1940-01-29 00:00:00  1969-02-01 00:00:00   \n",
       "3      Arthur Beaubien-Lucien  1940-01-29 00:00:00  1969-02-01 00:00:00   \n",
       "4      Arthur Beaubien-Lucien  1940-01-29 00:00:00  1969-02-01 00:00:00   \n",
       "...                       ...                  ...                  ...   \n",
       "54501             Nick Whalen  2015-10-19 00:00:00  2019-10-20 00:00:00   \n",
       "54502         John Williamson  2019-10-21 00:00:00                  NaN   \n",
       "54503      Borys Wrzesnewskyj  2015-10-19 00:00:00  2019-10-20 00:00:00   \n",
       "54504             Lenore Zann  2019-10-21 00:00:00                  NaN   \n",
       "54505           Sameer Zuberi  2019-10-21 00:00:00                  NaN   \n",
       "\n",
       "       Birth.Date.Combined  \n",
       "0        February 11, 1879  \n",
       "1        February 11, 1879  \n",
       "2        February 11, 1879  \n",
       "3        February 11, 1879  \n",
       "4        February 11, 1879  \n",
       "...                    ...  \n",
       "54501  1973-06-06 00:00:00  \n",
       "54502  1970-01-30 00:00:00  \n",
       "54503  1960-11-10 00:00:00  \n",
       "54504  1959-11-22 00:00:00  \n",
       "54505                age41  \n",
       "\n",
       "[6868 rows x 16 columns]"
      ],
      "text/html": "<div>\n<style scoped>\n    .dataframe tbody tr th:only-of-type {\n        vertical-align: middle;\n    }\n\n    .dataframe tbody tr th {\n        vertical-align: top;\n    }\n\n    .dataframe thead th {\n        text-align: right;\n    }\n</style>\n<table border=\"1\" class=\"dataframe\">\n  <thead>\n    <tr style=\"text-align: right;\">\n      <th></th>\n      <th>best_match_score</th>\n      <th>__id_left</th>\n      <th>__id_right</th>\n      <th>Name_left</th>\n      <th>number</th>\n      <th>First_Last</th>\n      <th>Name_right</th>\n      <th>Type.of.Parliamentarian</th>\n      <th>Riding.Senatorial.Division</th>\n      <th>Province.Territory</th>\n      <th>Gender</th>\n      <th>Political.Affiliation</th>\n      <th>Full</th>\n      <th>Start_date</th>\n      <th>End_date</th>\n      <th>Birth.Date.Combined</th>\n    </tr>\n  </thead>\n  <tbody>\n    <tr>\n      <th>0</th>\n      <td>0.785568</td>\n      <td>0_left</td>\n      <td>16_right</td>\n      <td>Beaubien, Arthur-Lucien</td>\n      <td>14</td>\n      <td>Arthur-Lucien Beaubien</td>\n      <td>Beaubien, Arthur-Lucien</td>\n      <td>MP (1921/12/06 - 1940/01/28)\\nSenator (1940/01...</td>\n      <td>Provencher (1940/01/29 - 1969/02/01)\\nProvench...</td>\n      <td>Manitoba\\nManitoba</td>\n      <td>M</td>\n      <td>Liberal Party of Canada (1940/01/29 - 1969/02/...</td>\n      <td>Arthur Beaubien-Lucien</td>\n      <td>1940-01-29 00:00:00</td>\n      <td>1969-02-01 00:00:00</td>\n      <td>February 11, 1879</td>\n    </tr>\n    <tr>\n      <th>1</th>\n      <td>0.785568</td>\n      <td>1_left</td>\n      <td>16_right</td>\n      <td>Beaubien, Arthur-Lucien</td>\n      <td>15</td>\n      <td>Arthur-Lucien Beaubien</td>\n      <td>Beaubien, Arthur-Lucien</td>\n      <td>MP (1921/12/06 - 1940/01/28)\\nSenator (1940/01...</td>\n      <td>Provencher (1940/01/29 - 1969/02/01)\\nProvench...</td>\n      <td>Manitoba\\nManitoba</td>\n      <td>M</td>\n      <td>Liberal Party of Canada (1940/01/29 - 1969/02/...</td>\n      <td>Arthur Beaubien-Lucien</td>\n      <td>1940-01-29 00:00:00</td>\n      <td>1969-02-01 00:00:00</td>\n      <td>February 11, 1879</td>\n    </tr>\n    <tr>\n      <th>2</th>\n      <td>0.785568</td>\n      <td>2_left</td>\n      <td>16_right</td>\n      <td>Beaubien, Arthur-Lucien</td>\n      <td>16</td>\n      <td>Arthur-Lucien Beaubien</td>\n      <td>Beaubien, Arthur-Lucien</td>\n      <td>MP (1921/12/06 - 1940/01/28)\\nSenator (1940/01...</td>\n      <td>Provencher (1940/01/29 - 1969/02/01)\\nProvench...</td>\n      <td>Manitoba\\nManitoba</td>\n      <td>M</td>\n      <td>Liberal Party of Canada (1940/01/29 - 1969/02/...</td>\n      <td>Arthur Beaubien-Lucien</td>\n      <td>1940-01-29 00:00:00</td>\n      <td>1969-02-01 00:00:00</td>\n      <td>February 11, 1879</td>\n    </tr>\n    <tr>\n      <th>3</th>\n      <td>0.785568</td>\n      <td>3_left</td>\n      <td>16_right</td>\n      <td>Beaubien, Arthur-Lucien</td>\n      <td>17</td>\n      <td>Arthur-Lucien Beaubien</td>\n      <td>Beaubien, Arthur-Lucien</td>\n      <td>MP (1921/12/06 - 1940/01/28)\\nSenator (1940/01...</td>\n      <td>Provencher (1940/01/29 - 1969/02/01)\\nProvench...</td>\n      <td>Manitoba\\nManitoba</td>\n      <td>M</td>\n      <td>Liberal Party of Canada (1940/01/29 - 1969/02/...</td>\n      <td>Arthur Beaubien-Lucien</td>\n      <td>1940-01-29 00:00:00</td>\n      <td>1969-02-01 00:00:00</td>\n      <td>February 11, 1879</td>\n    </tr>\n    <tr>\n      <th>4</th>\n      <td>0.785568</td>\n      <td>4_left</td>\n      <td>16_right</td>\n      <td>Beaubien, Arthur-Lucien</td>\n      <td>18</td>\n      <td>Arthur-Lucien Beaubien</td>\n      <td>Beaubien, Arthur-Lucien</td>\n      <td>MP (1921/12/06 - 1940/01/28)\\nSenator (1940/01...</td>\n      <td>Provencher (1940/01/29 - 1969/02/01)\\nProvench...</td>\n      <td>Manitoba\\nManitoba</td>\n      <td>M</td>\n      <td>Liberal Party of Canada (1940/01/29 - 1969/02/...</td>\n      <td>Arthur Beaubien-Lucien</td>\n      <td>1940-01-29 00:00:00</td>\n      <td>1969-02-01 00:00:00</td>\n      <td>February 11, 1879</td>\n    </tr>\n    <tr>\n      <th>...</th>\n      <td>...</td>\n      <td>...</td>\n      <td>...</td>\n      <td>...</td>\n      <td>...</td>\n      <td>...</td>\n      <td>...</td>\n      <td>...</td>\n      <td>...</td>\n      <td>...</td>\n      <td>...</td>\n      <td>...</td>\n      <td>...</td>\n      <td>...</td>\n      <td>...</td>\n      <td>...</td>\n    </tr>\n    <tr>\n      <th>54501</th>\n      <td>0.408486</td>\n      <td>6863_left</td>\n      <td>1944_right</td>\n      <td>Whalen, Nick</td>\n      <td>43</td>\n      <td>Nick Whalen</td>\n      <td>Whalen, Nick</td>\n      <td>MP (2015/10/19 - 2019/10/20)</td>\n      <td>St. John's East (2015/10/19 - 2019/10/20)</td>\n      <td>Newfoundland and Labrador</td>\n      <td>M</td>\n      <td>Liberal Party of Canada (2015/10/19 - 2019/10/20)</td>\n      <td>Nick Whalen</td>\n      <td>2015-10-19 00:00:00</td>\n      <td>2019-10-20 00:00:00</td>\n      <td>1973-06-06 00:00:00</td>\n    </tr>\n    <tr>\n      <th>54502</th>\n      <td>0.530787</td>\n      <td>6864_left</td>\n      <td>1894_right</td>\n      <td>Williamson, John</td>\n      <td>43</td>\n      <td>John Williamson</td>\n      <td>Williamson, John</td>\n      <td>MP (2019/10/21 - )\\nMP (2011/05/02 - 2015/10/18)</td>\n      <td>New Brunswick Southwest (2019/10/21 - )\\nNew B...</td>\n      <td>New Brunswick\\nNew Brunswick</td>\n      <td>M</td>\n      <td>Conservative Party of Canada (2019/10/21 - )\\n...</td>\n      <td>John Williamson</td>\n      <td>2019-10-21 00:00:00</td>\n      <td>NaN</td>\n      <td>1970-01-30 00:00:00</td>\n    </tr>\n    <tr>\n      <th>54503</th>\n      <td>0.579563</td>\n      <td>6865_left</td>\n      <td>1703_right</td>\n      <td>Wrzesnewskyj, Borys</td>\n      <td>43</td>\n      <td>Borys Wrzesnewskyj</td>\n      <td>Wrzesnewskyj, Borys</td>\n      <td>MP (2015/10/19 - 2019/10/20)\\nMP (2004/06/28 -...</td>\n      <td>Etobicoke Centre (2015/10/19 - 2019/10/20)\\nEt...</td>\n      <td>Ontario\\nOntario</td>\n      <td>M</td>\n      <td>Liberal Party of Canada (2015/10/19 - 2019/10/...</td>\n      <td>Borys Wrzesnewskyj</td>\n      <td>2015-10-19 00:00:00</td>\n      <td>2019-10-20 00:00:00</td>\n      <td>1960-11-10 00:00:00</td>\n    </tr>\n    <tr>\n      <th>54504</th>\n      <td>0.467757</td>\n      <td>6866_left</td>\n      <td>1674_right</td>\n      <td>Zann, Lenore</td>\n      <td>43</td>\n      <td>Lenore Zann</td>\n      <td>Zann, Lenore</td>\n      <td>MP (2019/10/21 - )</td>\n      <td>Cumberland--Colchester (2019/10/21 - )</td>\n      <td>Nova Scotia</td>\n      <td>F</td>\n      <td>Liberal Party of Canada (2019/10/21 - )</td>\n      <td>Lenore Zann</td>\n      <td>2019-10-21 00:00:00</td>\n      <td>NaN</td>\n      <td>1959-11-22 00:00:00</td>\n    </tr>\n    <tr>\n      <th>54505</th>\n      <td>0.459955</td>\n      <td>6867_left</td>\n      <td>2223_right</td>\n      <td>Zuberi, Sameer</td>\n      <td>43</td>\n      <td>Sameer Zuberi</td>\n      <td>Zuberi, Sameer</td>\n      <td>MP (2019/10/21 - )</td>\n      <td>Pierrefonds--Dollard (2019/10/21 - )</td>\n      <td>Quebec</td>\n      <td>M</td>\n      <td>Liberal Party of Canada (2019/10/21 - )</td>\n      <td>Sameer Zuberi</td>\n      <td>2019-10-21 00:00:00</td>\n      <td>NaN</td>\n      <td>age41</td>\n    </tr>\n  </tbody>\n</table>\n<p>6868 rows × 16 columns</p>\n</div>"
     },
     "metadata": {},
     "execution_count": 30
    }
   ],
   "source": [
    "matched_results"
   ]
  },
  {
   "cell_type": "code",
   "execution_count": null,
   "metadata": {},
   "outputs": [],
   "source": []
  }
 ]
}