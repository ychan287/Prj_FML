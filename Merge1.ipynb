{
 "metadata": {
  "language_info": {
   "codemirror_mode": {
    "name": "ipython",
    "version": 3
   },
   "file_extension": ".py",
   "mimetype": "text/x-python",
   "name": "python",
   "nbconvert_exporter": "python",
   "pygments_lexer": "ipython3",
   "version": "3.7.0"
  },
  "orig_nbformat": 2,
  "kernelspec": {
   "name": "python370jvsc74a57bd0b67219c1755a5d476dd74d5fa683cfbbe51e738cac1abda326fa20a178bd0594",
   "display_name": "Python 3.7.0 64-bit ('timeseries': conda)"
  }
 },
 "nbformat": 4,
 "nbformat_minor": 2,
 "cells": [
  {
   "cell_type": "code",
   "execution_count": 11,
   "metadata": {},
   "outputs": [
    {
     "output_type": "execute_result",
     "data": {
      "text/plain": [
       "                       Name  \\\n",
       "0  Lind, James (Jim) Gordon   \n",
       "1           Hébert, Jacques   \n",
       "\n",
       "                             Type.of.Parliamentarian  \\\n",
       "0  MP (1968/06/25 - 1972/10/29)\\nMP (1965/11/08 -...   \n",
       "1                  Senator (1983/04/20 - 1998/06/21)   \n",
       "\n",
       "                          Riding.Senatorial.Division Province.Territory  \\\n",
       "0  Middlesex (1968/06/25 - 1972/10/29)\\nMiddlesex...   Ontario\\nOntario   \n",
       "1               Wellington (1983/04/20 - 1998/06/21)             Quebec   \n",
       "\n",
       "  Gender                              Political.Affiliation            Full  \\\n",
       "0      M  Liberal Party of Canada (1965/11/08 - 1972/10/29)      James Lind   \n",
       "1      M  Liberal Party of Canada (1983/04/20 - 1998/06/21)  Jacques Hébert   \n",
       "\n",
       "            Start_date             End_date  Birth.Date.Combined  \n",
       "0  1965-11-08 00:00:00  1972-10-29 00:00:00  1913-03-08 00:00:00  \n",
       "1  1983-04-20 00:00:00  1998-06-21 00:00:00  1923-06-21 00:00:00  "
      ],
      "text/html": "<div>\n<style scoped>\n    .dataframe tbody tr th:only-of-type {\n        vertical-align: middle;\n    }\n\n    .dataframe tbody tr th {\n        vertical-align: top;\n    }\n\n    .dataframe thead th {\n        text-align: right;\n    }\n</style>\n<table border=\"1\" class=\"dataframe\">\n  <thead>\n    <tr style=\"text-align: right;\">\n      <th></th>\n      <th>Name</th>\n      <th>Type.of.Parliamentarian</th>\n      <th>Riding.Senatorial.Division</th>\n      <th>Province.Territory</th>\n      <th>Gender</th>\n      <th>Political.Affiliation</th>\n      <th>Full</th>\n      <th>Start_date</th>\n      <th>End_date</th>\n      <th>Birth.Date.Combined</th>\n    </tr>\n  </thead>\n  <tbody>\n    <tr>\n      <th>0</th>\n      <td>Lind, James (Jim) Gordon</td>\n      <td>MP (1968/06/25 - 1972/10/29)\\nMP (1965/11/08 -...</td>\n      <td>Middlesex (1968/06/25 - 1972/10/29)\\nMiddlesex...</td>\n      <td>Ontario\\nOntario</td>\n      <td>M</td>\n      <td>Liberal Party of Canada (1965/11/08 - 1972/10/29)</td>\n      <td>James Lind</td>\n      <td>1965-11-08 00:00:00</td>\n      <td>1972-10-29 00:00:00</td>\n      <td>1913-03-08 00:00:00</td>\n    </tr>\n    <tr>\n      <th>1</th>\n      <td>Hébert, Jacques</td>\n      <td>Senator (1983/04/20 - 1998/06/21)</td>\n      <td>Wellington (1983/04/20 - 1998/06/21)</td>\n      <td>Quebec</td>\n      <td>M</td>\n      <td>Liberal Party of Canada (1983/04/20 - 1998/06/21)</td>\n      <td>Jacques Hébert</td>\n      <td>1983-04-20 00:00:00</td>\n      <td>1998-06-21 00:00:00</td>\n      <td>1923-06-21 00:00:00</td>\n    </tr>\n  </tbody>\n</table>\n</div>"
     },
     "metadata": {},
     "execution_count": 11
    }
   ],
   "source": [
    "import pandas as pd\n",
    "import re\n",
    "import fuzzy_pandas as fpd\n",
    "import fuzzymatcher\n",
    "\n",
    "All_MPs = pd.read_excel(\"all_MPs_bd_April7-2.xls\")\n",
    "#imported it as an xls because csv's were doing funny things to the names \n",
    "All_MPs.head(2)\n"
   ]
  },
  {
   "cell_type": "code",
   "execution_count": 12,
   "metadata": {},
   "outputs": [
    {
     "output_type": "execute_result",
     "data": {
      "text/plain": [
       "                      Name  number\n",
       "0  Beaubien, Arthur-Lucien      14\n",
       "1  Beaubien, Arthur-Lucien      15"
      ],
      "text/html": "<div>\n<style scoped>\n    .dataframe tbody tr th:only-of-type {\n        vertical-align: middle;\n    }\n\n    .dataframe tbody tr th {\n        vertical-align: top;\n    }\n\n    .dataframe thead th {\n        text-align: right;\n    }\n</style>\n<table border=\"1\" class=\"dataframe\">\n  <thead>\n    <tr style=\"text-align: right;\">\n      <th></th>\n      <th>Name</th>\n      <th>number</th>\n    </tr>\n  </thead>\n  <tbody>\n    <tr>\n      <th>0</th>\n      <td>Beaubien, Arthur-Lucien</td>\n      <td>14</td>\n    </tr>\n    <tr>\n      <th>1</th>\n      <td>Beaubien, Arthur-Lucien</td>\n      <td>15</td>\n    </tr>\n  </tbody>\n</table>\n</div>"
     },
     "metadata": {},
     "execution_count": 12
    }
   ],
   "source": [
    "MPs_parliament = pd.read_csv ('MPs_parliament.csv')\n",
    "MPs_parliament.head(2)\n"
   ]
  },
  {
   "cell_type": "code",
   "execution_count": 13,
   "metadata": {},
   "outputs": [
    {
     "output_type": "stream",
     "name": "stderr",
     "text": [
      "ipykernel_launcher:2: FutureWarning: Columnar iteration over characters will be deprecated in future releases.\n"
     ]
    },
    {
     "output_type": "execute_result",
     "data": {
      "text/plain": [
       "                      Name  number               First_Last\n",
       "0  Beaubien, Arthur-Lucien      14   Arthur-Lucien Beaubien\n",
       "1  Beaubien, Arthur-Lucien      15   Arthur-Lucien Beaubien\n",
       "2  Beaubien, Arthur-Lucien      16   Arthur-Lucien Beaubien\n",
       "3  Beaubien, Arthur-Lucien      17   Arthur-Lucien Beaubien\n",
       "4  Beaubien, Arthur-Lucien      18   Arthur-Lucien Beaubien"
      ],
      "text/html": "<div>\n<style scoped>\n    .dataframe tbody tr th:only-of-type {\n        vertical-align: middle;\n    }\n\n    .dataframe tbody tr th {\n        vertical-align: top;\n    }\n\n    .dataframe thead th {\n        text-align: right;\n    }\n</style>\n<table border=\"1\" class=\"dataframe\">\n  <thead>\n    <tr style=\"text-align: right;\">\n      <th></th>\n      <th>Name</th>\n      <th>number</th>\n      <th>First_Last</th>\n    </tr>\n  </thead>\n  <tbody>\n    <tr>\n      <th>0</th>\n      <td>Beaubien, Arthur-Lucien</td>\n      <td>14</td>\n      <td>Arthur-Lucien Beaubien</td>\n    </tr>\n    <tr>\n      <th>1</th>\n      <td>Beaubien, Arthur-Lucien</td>\n      <td>15</td>\n      <td>Arthur-Lucien Beaubien</td>\n    </tr>\n    <tr>\n      <th>2</th>\n      <td>Beaubien, Arthur-Lucien</td>\n      <td>16</td>\n      <td>Arthur-Lucien Beaubien</td>\n    </tr>\n    <tr>\n      <th>3</th>\n      <td>Beaubien, Arthur-Lucien</td>\n      <td>17</td>\n      <td>Arthur-Lucien Beaubien</td>\n    </tr>\n    <tr>\n      <th>4</th>\n      <td>Beaubien, Arthur-Lucien</td>\n      <td>18</td>\n      <td>Arthur-Lucien Beaubien</td>\n    </tr>\n  </tbody>\n</table>\n</div>"
     },
     "metadata": {},
     "execution_count": 13
    }
   ],
   "source": [
    "#change the name format into first last with no comma to match MPs_parliament['Full'] column\n",
    "MPs_parliament['Last'],MPs_parliament['First'] = MPs_parliament['Name'].str.split(',', 1).str\n",
    "MPs_parliament[\"First_Last\"] = MPs_parliament[\"First\"]  + ' ' + MPs_parliament[\"Last\"] \n",
    "MPs_parliament = MPs_parliament.drop(columns=['First', 'Last'])\n",
    "MPs_parliament.head()"
   ]
  },
  {
   "cell_type": "code",
   "execution_count": 16,
   "metadata": {},
   "outputs": [
    {
     "output_type": "execute_result",
     "data": {
      "text/plain": [
       "   best_match_score __id_left __id_right                Name_left  number  \\\n",
       "0          0.785568    0_left   16_right  Beaubien, Arthur-Lucien      14   \n",
       "1          0.785568    1_left   16_right  Beaubien, Arthur-Lucien      15   \n",
       "\n",
       "                First_Last               Name_right  \\\n",
       "0   Arthur-Lucien Beaubien  Beaubien, Arthur-Lucien   \n",
       "1   Arthur-Lucien Beaubien  Beaubien, Arthur-Lucien   \n",
       "\n",
       "                             Type.of.Parliamentarian  \\\n",
       "0  MP (1921/12/06 - 1940/01/28)\\nSenator (1940/01...   \n",
       "1  MP (1921/12/06 - 1940/01/28)\\nSenator (1940/01...   \n",
       "\n",
       "                          Riding.Senatorial.Division  Province.Territory  \\\n",
       "0  Provencher (1940/01/29 - 1969/02/01)\\nProvench...  Manitoba\\nManitoba   \n",
       "1  Provencher (1940/01/29 - 1969/02/01)\\nProvench...  Manitoba\\nManitoba   \n",
       "\n",
       "  Gender                              Political.Affiliation  \\\n",
       "0      M  Liberal Party of Canada (1940/01/29 - 1969/02/...   \n",
       "1      M  Liberal Party of Canada (1940/01/29 - 1969/02/...   \n",
       "\n",
       "                     Full           Start_date             End_date  \\\n",
       "0  Arthur Beaubien-Lucien  1940-01-29 00:00:00  1969-02-01 00:00:00   \n",
       "1  Arthur Beaubien-Lucien  1940-01-29 00:00:00  1969-02-01 00:00:00   \n",
       "\n",
       "  Birth.Date.Combined  \n",
       "0   February 11, 1879  \n",
       "1   February 11, 1879  "
      ],
      "text/html": "<div>\n<style scoped>\n    .dataframe tbody tr th:only-of-type {\n        vertical-align: middle;\n    }\n\n    .dataframe tbody tr th {\n        vertical-align: top;\n    }\n\n    .dataframe thead th {\n        text-align: right;\n    }\n</style>\n<table border=\"1\" class=\"dataframe\">\n  <thead>\n    <tr style=\"text-align: right;\">\n      <th></th>\n      <th>best_match_score</th>\n      <th>__id_left</th>\n      <th>__id_right</th>\n      <th>Name_left</th>\n      <th>number</th>\n      <th>First_Last</th>\n      <th>Name_right</th>\n      <th>Type.of.Parliamentarian</th>\n      <th>Riding.Senatorial.Division</th>\n      <th>Province.Territory</th>\n      <th>Gender</th>\n      <th>Political.Affiliation</th>\n      <th>Full</th>\n      <th>Start_date</th>\n      <th>End_date</th>\n      <th>Birth.Date.Combined</th>\n    </tr>\n  </thead>\n  <tbody>\n    <tr>\n      <th>0</th>\n      <td>0.785568</td>\n      <td>0_left</td>\n      <td>16_right</td>\n      <td>Beaubien, Arthur-Lucien</td>\n      <td>14</td>\n      <td>Arthur-Lucien Beaubien</td>\n      <td>Beaubien, Arthur-Lucien</td>\n      <td>MP (1921/12/06 - 1940/01/28)\\nSenator (1940/01...</td>\n      <td>Provencher (1940/01/29 - 1969/02/01)\\nProvench...</td>\n      <td>Manitoba\\nManitoba</td>\n      <td>M</td>\n      <td>Liberal Party of Canada (1940/01/29 - 1969/02/...</td>\n      <td>Arthur Beaubien-Lucien</td>\n      <td>1940-01-29 00:00:00</td>\n      <td>1969-02-01 00:00:00</td>\n      <td>February 11, 1879</td>\n    </tr>\n    <tr>\n      <th>1</th>\n      <td>0.785568</td>\n      <td>1_left</td>\n      <td>16_right</td>\n      <td>Beaubien, Arthur-Lucien</td>\n      <td>15</td>\n      <td>Arthur-Lucien Beaubien</td>\n      <td>Beaubien, Arthur-Lucien</td>\n      <td>MP (1921/12/06 - 1940/01/28)\\nSenator (1940/01...</td>\n      <td>Provencher (1940/01/29 - 1969/02/01)\\nProvench...</td>\n      <td>Manitoba\\nManitoba</td>\n      <td>M</td>\n      <td>Liberal Party of Canada (1940/01/29 - 1969/02/...</td>\n      <td>Arthur Beaubien-Lucien</td>\n      <td>1940-01-29 00:00:00</td>\n      <td>1969-02-01 00:00:00</td>\n      <td>February 11, 1879</td>\n    </tr>\n  </tbody>\n</table>\n</div>"
     },
     "metadata": {},
     "execution_count": 16
    }
   ],
   "source": [
    "\n",
    "#used fuzzy matcher to match the names as the format was different\n",
    "matched_results = fuzzymatcher.fuzzy_left_join(MPs_parliament, All_MPs,\n",
    "                left_on=['First_Last'],\n",
    "                right_on=['Full'])\n",
    "\n",
    "\n",
    "matched_results.head(2)"
   ]
  },
  {
   "cell_type": "code",
   "execution_count": 17,
   "metadata": {},
   "outputs": [
    {
     "output_type": "execute_result",
     "data": {
      "text/plain": [
       "Index(['best_match_score', '__id_left', '__id_right', 'Name_left', 'number',\n",
       "       'First_Last', 'Name_right', 'Type.of.Parliamentarian',\n",
       "       'Riding.Senatorial.Division', 'Province.Territory', 'Gender',\n",
       "       'Political.Affiliation', 'Full', 'Start_date', 'End_date',\n",
       "       'Birth.Date.Combined'],\n",
       "      dtype='object')"
      ]
     },
     "metadata": {},
     "execution_count": 17
    }
   ],
   "source": [
    "matched_results.columns"
   ]
  },
  {
   "cell_type": "code",
   "execution_count": 18,
   "metadata": {},
   "outputs": [
    {
     "output_type": "execute_result",
     "data": {
      "text/plain": [
       "       best_match_score                  Name_left                 Name_right  \\\n",
       "43486          0.990019    Girard-Bujold, Jocelyne    Girard-Bujold, Jocelyne   \n",
       "45950          0.990019    Girard-Bujold, Jocelyne    Girard-Bujold, Jocelyne   \n",
       "48225          0.990019    Girard-Bujold, Jocelyne    Girard-Bujold, Jocelyne   \n",
       "53703          0.975842  Genest-Jourdain, Jonathan  Genest-Jourdain, Jonathan   \n",
       "52714          0.975842  Genest-Jourdain, Jonathan  Genest-Jourdain, Jonathan   \n",
       "\n",
       "       number  __id_left  __id_right                 First_Last  \\\n",
       "43486      36  3985_left   993_right     Jocelyne Girard-Bujold   \n",
       "45950      37  4371_left   993_right     Jocelyne Girard-Bujold   \n",
       "48225      38  4758_left   993_right     Jocelyne Girard-Bujold   \n",
       "53703      42  6344_left  1999_right   Jonathan Genest-Jourdain   \n",
       "52714      41  5914_left  1999_right   Jonathan Genest-Jourdain   \n",
       "\n",
       "            Type.of.Parliamentarian             Riding.Senatorial.Division  \\\n",
       "43486  MP (1997/06/02 - 2004/06/27)    Jonquière (1997/06/02 - 2004/06/27)   \n",
       "45950  MP (1997/06/02 - 2004/06/27)    Jonquière (1997/06/02 - 2004/06/27)   \n",
       "48225  MP (1997/06/02 - 2004/06/27)    Jonquière (1997/06/02 - 2004/06/27)   \n",
       "53703  MP (2011/05/02 - 2015/10/18)  Manicouagan (2011/05/02 - 2015/10/18)   \n",
       "52714  MP (2011/05/02 - 2015/10/18)  Manicouagan (2011/05/02 - 2015/10/18)   \n",
       "\n",
       "      Province.Territory Gender  \\\n",
       "43486             Quebec      F   \n",
       "45950             Quebec      F   \n",
       "48225             Quebec      F   \n",
       "53703             Quebec      M   \n",
       "52714             Quebec      M   \n",
       "\n",
       "                                Political.Affiliation  \\\n",
       "43486        Bloc Québécois (1997/06/02 - 2004/06/27)   \n",
       "45950        Bloc Québécois (1997/06/02 - 2004/06/27)   \n",
       "48225        Bloc Québécois (1997/06/02 - 2004/06/27)   \n",
       "53703  New Democratic Party (2011/05/02 - 2015/10/18)   \n",
       "52714  New Democratic Party (2011/05/02 - 2015/10/18)   \n",
       "\n",
       "                           Full           Start_date             End_date  \\\n",
       "43486    Girard-Jocelyne Bujold  1997-06-02 00:00:00  2004-06-27 00:00:00   \n",
       "45950    Girard-Jocelyne Bujold  1997-06-02 00:00:00  2004-06-27 00:00:00   \n",
       "48225    Girard-Jocelyne Bujold  1997-06-02 00:00:00  2004-06-27 00:00:00   \n",
       "53703  Genest-Jonathan Jourdain  2011-05-02 00:00:00  2015-10-18 00:00:00   \n",
       "52714  Genest-Jonathan Jourdain  2011-05-02 00:00:00  2015-10-18 00:00:00   \n",
       "\n",
       "       Birth.Date.Combined  \n",
       "43486  1943-01-01 00:00:00  \n",
       "45950  1943-01-01 00:00:00  \n",
       "48225  1943-01-01 00:00:00  \n",
       "53703  1979-07-16 00:00:00  \n",
       "52714  1979-07-16 00:00:00  "
      ],
      "text/html": "<div>\n<style scoped>\n    .dataframe tbody tr th:only-of-type {\n        vertical-align: middle;\n    }\n\n    .dataframe tbody tr th {\n        vertical-align: top;\n    }\n\n    .dataframe thead th {\n        text-align: right;\n    }\n</style>\n<table border=\"1\" class=\"dataframe\">\n  <thead>\n    <tr style=\"text-align: right;\">\n      <th></th>\n      <th>best_match_score</th>\n      <th>Name_left</th>\n      <th>Name_right</th>\n      <th>number</th>\n      <th>__id_left</th>\n      <th>__id_right</th>\n      <th>First_Last</th>\n      <th>Type.of.Parliamentarian</th>\n      <th>Riding.Senatorial.Division</th>\n      <th>Province.Territory</th>\n      <th>Gender</th>\n      <th>Political.Affiliation</th>\n      <th>Full</th>\n      <th>Start_date</th>\n      <th>End_date</th>\n      <th>Birth.Date.Combined</th>\n    </tr>\n  </thead>\n  <tbody>\n    <tr>\n      <th>43486</th>\n      <td>0.990019</td>\n      <td>Girard-Bujold, Jocelyne</td>\n      <td>Girard-Bujold, Jocelyne</td>\n      <td>36</td>\n      <td>3985_left</td>\n      <td>993_right</td>\n      <td>Jocelyne Girard-Bujold</td>\n      <td>MP (1997/06/02 - 2004/06/27)</td>\n      <td>Jonquière (1997/06/02 - 2004/06/27)</td>\n      <td>Quebec</td>\n      <td>F</td>\n      <td>Bloc Québécois (1997/06/02 - 2004/06/27)</td>\n      <td>Girard-Jocelyne Bujold</td>\n      <td>1997-06-02 00:00:00</td>\n      <td>2004-06-27 00:00:00</td>\n      <td>1943-01-01 00:00:00</td>\n    </tr>\n    <tr>\n      <th>45950</th>\n      <td>0.990019</td>\n      <td>Girard-Bujold, Jocelyne</td>\n      <td>Girard-Bujold, Jocelyne</td>\n      <td>37</td>\n      <td>4371_left</td>\n      <td>993_right</td>\n      <td>Jocelyne Girard-Bujold</td>\n      <td>MP (1997/06/02 - 2004/06/27)</td>\n      <td>Jonquière (1997/06/02 - 2004/06/27)</td>\n      <td>Quebec</td>\n      <td>F</td>\n      <td>Bloc Québécois (1997/06/02 - 2004/06/27)</td>\n      <td>Girard-Jocelyne Bujold</td>\n      <td>1997-06-02 00:00:00</td>\n      <td>2004-06-27 00:00:00</td>\n      <td>1943-01-01 00:00:00</td>\n    </tr>\n    <tr>\n      <th>48225</th>\n      <td>0.990019</td>\n      <td>Girard-Bujold, Jocelyne</td>\n      <td>Girard-Bujold, Jocelyne</td>\n      <td>38</td>\n      <td>4758_left</td>\n      <td>993_right</td>\n      <td>Jocelyne Girard-Bujold</td>\n      <td>MP (1997/06/02 - 2004/06/27)</td>\n      <td>Jonquière (1997/06/02 - 2004/06/27)</td>\n      <td>Quebec</td>\n      <td>F</td>\n      <td>Bloc Québécois (1997/06/02 - 2004/06/27)</td>\n      <td>Girard-Jocelyne Bujold</td>\n      <td>1997-06-02 00:00:00</td>\n      <td>2004-06-27 00:00:00</td>\n      <td>1943-01-01 00:00:00</td>\n    </tr>\n    <tr>\n      <th>53703</th>\n      <td>0.975842</td>\n      <td>Genest-Jourdain, Jonathan</td>\n      <td>Genest-Jourdain, Jonathan</td>\n      <td>42</td>\n      <td>6344_left</td>\n      <td>1999_right</td>\n      <td>Jonathan Genest-Jourdain</td>\n      <td>MP (2011/05/02 - 2015/10/18)</td>\n      <td>Manicouagan (2011/05/02 - 2015/10/18)</td>\n      <td>Quebec</td>\n      <td>M</td>\n      <td>New Democratic Party (2011/05/02 - 2015/10/18)</td>\n      <td>Genest-Jonathan Jourdain</td>\n      <td>2011-05-02 00:00:00</td>\n      <td>2015-10-18 00:00:00</td>\n      <td>1979-07-16 00:00:00</td>\n    </tr>\n    <tr>\n      <th>52714</th>\n      <td>0.975842</td>\n      <td>Genest-Jourdain, Jonathan</td>\n      <td>Genest-Jourdain, Jonathan</td>\n      <td>41</td>\n      <td>5914_left</td>\n      <td>1999_right</td>\n      <td>Jonathan Genest-Jourdain</td>\n      <td>MP (2011/05/02 - 2015/10/18)</td>\n      <td>Manicouagan (2011/05/02 - 2015/10/18)</td>\n      <td>Quebec</td>\n      <td>M</td>\n      <td>New Democratic Party (2011/05/02 - 2015/10/18)</td>\n      <td>Genest-Jonathan Jourdain</td>\n      <td>2011-05-02 00:00:00</td>\n      <td>2015-10-18 00:00:00</td>\n      <td>1979-07-16 00:00:00</td>\n    </tr>\n  </tbody>\n</table>\n</div>"
     },
     "metadata": {},
     "execution_count": 18
    }
   ],
   "source": [
    "cols = [\n",
    "   'best_match_score', 'Name_left',  'Name_right',  'number','__id_left', '__id_right', \n",
    "       'First_Last', 'Type.of.Parliamentarian',\n",
    "       'Riding.Senatorial.Division', 'Province.Territory', 'Gender',\n",
    "       'Political.Affiliation', 'Full', 'Start_date', 'End_date',\n",
    "       'Birth.Date.Combined'\n",
    "]\n",
    "\n",
    "matched_results[cols].sort_values(by=['best_match_score'], ascending=False).head(5)"
   ]
  },
  {
   "cell_type": "code",
   "execution_count": 27,
   "metadata": {},
   "outputs": [
    {
     "output_type": "execute_result",
     "data": {
      "text/plain": [
       "       best_match_score             Name_left         Name_right  number  \\\n",
       "24243          0.033863   Baker, Walter David      Walker, David      32   \n",
       "15966          0.033863   Baker, Walter David      Walker, David      30   \n",
       "12020          0.033863   Baker, Walter David      Walker, David      29   \n",
       "19799          0.033863   Baker, Walter David      Walker, David      31   \n",
       "33643          0.034859  Bosley, John William  Williams, John G.      34   \n",
       "\n",
       "       __id_left  __id_right            First_Last  \\\n",
       "24243  2128_left  1201_right    Walter David Baker   \n",
       "15966  1402_left  1201_right    Walter David Baker   \n",
       "12020  1035_left  1201_right    Walter David Baker   \n",
       "19799  1750_left  1201_right    Walter David Baker   \n",
       "33643  2941_left   568_right   John William Bosley   \n",
       "\n",
       "                                 Type.of.Parliamentarian  \\\n",
       "24243                       MP (1988/11/21 - 1997/06/01)   \n",
       "15966                       MP (1988/11/21 - 1997/06/01)   \n",
       "12020                       MP (1988/11/21 - 1997/06/01)   \n",
       "19799                       MP (1988/11/21 - 1997/06/01)   \n",
       "33643  MP (2004/06/28 - 2008/10/13)\\nMP (1993/10/25 -...   \n",
       "\n",
       "                              Riding.Senatorial.Division Province.Territory  \\\n",
       "24243    Winnipeg North Centre (1988/11/21 - 1997/06/01)           Manitoba   \n",
       "15966    Winnipeg North Centre (1988/11/21 - 1997/06/01)           Manitoba   \n",
       "12020    Winnipeg North Centre (1988/11/21 - 1997/06/01)           Manitoba   \n",
       "19799    Winnipeg North Centre (1988/11/21 - 1997/06/01)           Manitoba   \n",
       "33643  Edmonton--St. Albert (2004/06/28 - 2008/10/13)...   Alberta\\nAlberta   \n",
       "\n",
       "      Gender                              Political.Affiliation  \\\n",
       "24243      M  Liberal Party of Canada (1988/11/21 - 1997/06/01)   \n",
       "15966      M  Liberal Party of Canada (1988/11/21 - 1997/06/01)   \n",
       "12020      M  Liberal Party of Canada (1988/11/21 - 1997/06/01)   \n",
       "19799      M  Liberal Party of Canada (1988/11/21 - 1997/06/01)   \n",
       "33643      M  Conservative Party of Canada (2003/12/23 - 200...   \n",
       "\n",
       "                Full           Start_date             End_date  \\\n",
       "24243   David Walker  1988-11-21 00:00:00  1997-06-01 00:00:00   \n",
       "15966   David Walker  1988-11-21 00:00:00  1997-06-01 00:00:00   \n",
       "12020   David Walker  1988-11-21 00:00:00  1997-06-01 00:00:00   \n",
       "19799   David Walker  1988-11-21 00:00:00  1997-06-01 00:00:00   \n",
       "33643  John Williams  2003-12-23 00:00:00  2008-10-13 00:00:00   \n",
       "\n",
       "       Birth.Date.Combined  \n",
       "24243  1947-08-01 00:00:00  \n",
       "15966  1947-08-01 00:00:00  \n",
       "12020  1947-08-01 00:00:00  \n",
       "19799  1947-08-01 00:00:00  \n",
       "33643  1932-02-08 00:00:00  "
      ],
      "text/html": "<div>\n<style scoped>\n    .dataframe tbody tr th:only-of-type {\n        vertical-align: middle;\n    }\n\n    .dataframe tbody tr th {\n        vertical-align: top;\n    }\n\n    .dataframe thead th {\n        text-align: right;\n    }\n</style>\n<table border=\"1\" class=\"dataframe\">\n  <thead>\n    <tr style=\"text-align: right;\">\n      <th></th>\n      <th>best_match_score</th>\n      <th>Name_left</th>\n      <th>Name_right</th>\n      <th>number</th>\n      <th>__id_left</th>\n      <th>__id_right</th>\n      <th>First_Last</th>\n      <th>Type.of.Parliamentarian</th>\n      <th>Riding.Senatorial.Division</th>\n      <th>Province.Territory</th>\n      <th>Gender</th>\n      <th>Political.Affiliation</th>\n      <th>Full</th>\n      <th>Start_date</th>\n      <th>End_date</th>\n      <th>Birth.Date.Combined</th>\n    </tr>\n  </thead>\n  <tbody>\n    <tr>\n      <th>24243</th>\n      <td>0.033863</td>\n      <td>Baker, Walter David</td>\n      <td>Walker, David</td>\n      <td>32</td>\n      <td>2128_left</td>\n      <td>1201_right</td>\n      <td>Walter David Baker</td>\n      <td>MP (1988/11/21 - 1997/06/01)</td>\n      <td>Winnipeg North Centre (1988/11/21 - 1997/06/01)</td>\n      <td>Manitoba</td>\n      <td>M</td>\n      <td>Liberal Party of Canada (1988/11/21 - 1997/06/01)</td>\n      <td>David Walker</td>\n      <td>1988-11-21 00:00:00</td>\n      <td>1997-06-01 00:00:00</td>\n      <td>1947-08-01 00:00:00</td>\n    </tr>\n    <tr>\n      <th>15966</th>\n      <td>0.033863</td>\n      <td>Baker, Walter David</td>\n      <td>Walker, David</td>\n      <td>30</td>\n      <td>1402_left</td>\n      <td>1201_right</td>\n      <td>Walter David Baker</td>\n      <td>MP (1988/11/21 - 1997/06/01)</td>\n      <td>Winnipeg North Centre (1988/11/21 - 1997/06/01)</td>\n      <td>Manitoba</td>\n      <td>M</td>\n      <td>Liberal Party of Canada (1988/11/21 - 1997/06/01)</td>\n      <td>David Walker</td>\n      <td>1988-11-21 00:00:00</td>\n      <td>1997-06-01 00:00:00</td>\n      <td>1947-08-01 00:00:00</td>\n    </tr>\n    <tr>\n      <th>12020</th>\n      <td>0.033863</td>\n      <td>Baker, Walter David</td>\n      <td>Walker, David</td>\n      <td>29</td>\n      <td>1035_left</td>\n      <td>1201_right</td>\n      <td>Walter David Baker</td>\n      <td>MP (1988/11/21 - 1997/06/01)</td>\n      <td>Winnipeg North Centre (1988/11/21 - 1997/06/01)</td>\n      <td>Manitoba</td>\n      <td>M</td>\n      <td>Liberal Party of Canada (1988/11/21 - 1997/06/01)</td>\n      <td>David Walker</td>\n      <td>1988-11-21 00:00:00</td>\n      <td>1997-06-01 00:00:00</td>\n      <td>1947-08-01 00:00:00</td>\n    </tr>\n    <tr>\n      <th>19799</th>\n      <td>0.033863</td>\n      <td>Baker, Walter David</td>\n      <td>Walker, David</td>\n      <td>31</td>\n      <td>1750_left</td>\n      <td>1201_right</td>\n      <td>Walter David Baker</td>\n      <td>MP (1988/11/21 - 1997/06/01)</td>\n      <td>Winnipeg North Centre (1988/11/21 - 1997/06/01)</td>\n      <td>Manitoba</td>\n      <td>M</td>\n      <td>Liberal Party of Canada (1988/11/21 - 1997/06/01)</td>\n      <td>David Walker</td>\n      <td>1988-11-21 00:00:00</td>\n      <td>1997-06-01 00:00:00</td>\n      <td>1947-08-01 00:00:00</td>\n    </tr>\n    <tr>\n      <th>33643</th>\n      <td>0.034859</td>\n      <td>Bosley, John William</td>\n      <td>Williams, John G.</td>\n      <td>34</td>\n      <td>2941_left</td>\n      <td>568_right</td>\n      <td>John William Bosley</td>\n      <td>MP (2004/06/28 - 2008/10/13)\\nMP (1993/10/25 -...</td>\n      <td>Edmonton--St. Albert (2004/06/28 - 2008/10/13)...</td>\n      <td>Alberta\\nAlberta</td>\n      <td>M</td>\n      <td>Conservative Party of Canada (2003/12/23 - 200...</td>\n      <td>John Williams</td>\n      <td>2003-12-23 00:00:00</td>\n      <td>2008-10-13 00:00:00</td>\n      <td>1932-02-08 00:00:00</td>\n    </tr>\n  </tbody>\n</table>\n</div>"
     },
     "metadata": {},
     "execution_count": 27
    }
   ],
   "source": [
    "#even low match score seems to be correct, except for John William Bosely, need to check others too\n",
    "matched_results[cols].query(\"best_match_score <= .80\").sort_values(\n",
    "    by=['best_match_score'], ascending=True).head(5)"
   ]
  },
  {
   "cell_type": "code",
   "execution_count": null,
   "metadata": {},
   "outputs": [],
   "source": []
  }
 ]
}